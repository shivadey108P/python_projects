{
 "cells": [
  {
   "cell_type": "code",
   "execution_count": 1,
   "metadata": {},
   "outputs": [
    {
     "name": "stdout",
     "output_type": "stream",
     "text": [
      "[2, 3, 4]\n"
     ]
    }
   ],
   "source": [
    "numbers = [1,2,3]\n",
    "new_numbers = [n+1 for n in numbers]\n",
    "print(new_numbers)"
   ]
  },
  {
   "cell_type": "code",
   "execution_count": 2,
   "metadata": {},
   "outputs": [
    {
     "name": "stdout",
     "output_type": "stream",
     "text": [
      "['S', 'h', 'i', 'v', 'a']\n"
     ]
    }
   ],
   "source": [
    "name = \"Shiva\"\n",
    "name_letter = [letter for letter in name]\n",
    "print(name_letter)"
   ]
  },
  {
   "cell_type": "code",
   "execution_count": 1,
   "metadata": {},
   "outputs": [
    {
     "name": "stdout",
     "output_type": "stream",
     "text": [
      "[2, 4, 6, 8]\n"
     ]
    }
   ],
   "source": [
    "double_numbers = [n*2 for n in range(1,5)]\n",
    "print(double_numbers)"
   ]
  },
  {
   "cell_type": "code",
   "execution_count": 4,
   "metadata": {},
   "outputs": [
    {
     "name": "stdout",
     "output_type": "stream",
     "text": [
      "['Alex', 'Beth', 'Dave']\n",
      "['CAROLINE', 'ELEANOR', 'FREDDIE']\n"
     ]
    }
   ],
   "source": [
    "names = [\"Alex\", \"Beth\", \"Caroline\", \"Dave\", \"Eleanor\", \"Freddie\"]\n",
    "\n",
    "short_names = [name for name in names if len(name) < 5]\n",
    "print(short_names)\n",
    "\n",
    "long_names = [name.upper() for name in names if len(name) > 5]\n",
    "print(long_names)\n"
   ]
  },
  {
   "cell_type": "code",
   "execution_count": 7,
   "metadata": {},
   "outputs": [
    {
     "name": "stdout",
     "output_type": "stream",
     "text": [
      "{'Alex': 76, 'Beth': 2, 'Caroline': 91, 'Dave': 23, 'Eleanor': 73, 'Freddie': 1}\n"
     ]
    }
   ],
   "source": [
    "import random\n",
    "names = [\"Alex\", \"Beth\", \"Caroline\", \"Dave\", \"Eleanor\", \"Freddie\"]\n",
    "student_scores = {student:random.randint(1,101) for student in names}\n",
    "print(student_scores)"
   ]
  },
  {
   "cell_type": "code",
   "execution_count": 9,
   "metadata": {},
   "outputs": [
    {
     "name": "stdout",
     "output_type": "stream",
     "text": [
      "{'Alex': 76, 'Caroline': 91, 'Eleanor': 73}\n"
     ]
    }
   ],
   "source": [
    "passed_students = {student:score for (student, score) in student_scores.items() if score >= 60}\n",
    "print(passed_students) "
   ]
  },
  {
   "cell_type": "code",
   "execution_count": null,
   "metadata": {},
   "outputs": [],
   "source": []
  }
 ],
 "metadata": {
  "kernelspec": {
   "display_name": "Python 3",
   "language": "python",
   "name": "python3"
  },
  "language_info": {
   "codemirror_mode": {
    "name": "ipython",
    "version": 3
   },
   "file_extension": ".py",
   "mimetype": "text/x-python",
   "name": "python",
   "nbconvert_exporter": "python",
   "pygments_lexer": "ipython3",
   "version": "3.12.4"
  }
 },
 "nbformat": 4,
 "nbformat_minor": 2
}

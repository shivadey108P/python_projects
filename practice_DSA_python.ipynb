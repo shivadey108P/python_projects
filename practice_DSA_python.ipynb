{
 "cells": [
  {
   "cell_type": "code",
   "execution_count": 1,
   "metadata": {},
   "outputs": [
    {
     "name": "stdout",
     "output_type": "stream",
     "text": [
      "[1, 4, 4, 16, 25, 81]\n"
     ]
    }
   ],
   "source": [
    "array = [-4, -2, 1, 2, 5, 9]\n",
    "new_array = [arr**2 for arr in array]\n",
    "new_array.sort()\n",
    "print(new_array)"
   ]
  },
  {
   "cell_type": "code",
   "execution_count": 2,
   "metadata": {},
   "outputs": [
    {
     "name": "stdout",
     "output_type": "stream",
     "text": [
      "[0, 1, 4, 4, 16, 25]\n"
     ]
    }
   ],
   "source": [
    "def sorted_squared(array):\n",
    "    new_array = [0]*len(array)\n",
    "    for i in range(len(array) - 1):\n",
    "        new_array[i] = array[i] ** 2\n",
    "    new_array.sort()\n",
    "    return new_array\n",
    "\n",
    "print(sorted_squared([-4, -2, 1, 2, 5, 9]))"
   ]
  },
  {
   "cell_type": "code",
   "execution_count": 3,
   "metadata": {},
   "outputs": [
    {
     "name": "stdout",
     "output_type": "stream",
     "text": [
      "[1, 4, 4, 16, 25, 81, 121]\n"
     ]
    }
   ],
   "source": [
    "def sorted_squared(array):\n",
    "    n = len(array)\n",
    "    i, j = 0, n-1\n",
    "    result = [0]*n\n",
    "    for k in reversed(range(n)):\n",
    "        if array[i]**2 > array[j]**2:\n",
    "            result[k] = array[i]**2\n",
    "            i += 1\n",
    "        else:\n",
    "            result[k] = array[j]**2\n",
    "            j -= 1\n",
    "    return result\n",
    "\n",
    "\n",
    "print(sorted_squared([-11, -4, -2, 1, 2, 5, 9]))"
   ]
  },
  {
   "cell_type": "code",
   "execution_count": 4,
   "metadata": {},
   "outputs": [
    {
     "name": "stdout",
     "output_type": "stream",
     "text": [
      "[0, 0, 0, 0, 0, 0, 0]\n"
     ]
    }
   ],
   "source": [
    "def sorted_squared(array):\n",
    "    n = len(array)\n",
    "    i, j = 0, n-1\n",
    "    result = [0]*n\n",
    "    result = [result[k] if array[i]**2 > array[j]**2 else array[j]**2 for k in reversed(range(n))]\n",
    "    return result\n",
    "\n",
    "print(sorted_squared([-11, -4, -2, 1, 2, 5, 9]))"
   ]
  },
  {
   "cell_type": "code",
   "execution_count": 5,
   "metadata": {},
   "outputs": [
    {
     "name": "stdout",
     "output_type": "stream",
     "text": [
      "True\n"
     ]
    }
   ],
   "source": [
    "def monotonic_array(array):\n",
    "    n = len(array)\n",
    "        \n",
    "    if n == 0 or n == 1:\n",
    "        return True\n",
    "    \n",
    "    increasing = True\n",
    "    decreasing = True\n",
    "    \n",
    "    for i in range(n-1):\n",
    "        if array[i] > array[i+1]:\n",
    "            increasing = False\n",
    "        elif array[i] < array[i+1]:\n",
    "            decreasing = False\n",
    "    \n",
    "    return increasing or decreasing\n",
    "\n",
    "print(monotonic_array([3,2,2,1]))\n"
   ]
  },
  {
   "cell_type": "code",
   "execution_count": 6,
   "metadata": {},
   "outputs": [
    {
     "name": "stdout",
     "output_type": "stream",
     "text": [
      "True\n"
     ]
    }
   ],
   "source": [
    "def monotonic_array(array): # [1,2,3]\n",
    "    n = len(array) \n",
    "    if n == 0: return True\n",
    "    if array[0] > array[n-1]:# Checking if it's decreasing\n",
    "        for k in range(n-1):\n",
    "            if array[k] < array[k+1]: # 1< 2 is true, so it's not decreasing, so decreasing is False\n",
    "                return False\n",
    "    elif array[0] == array [n-1]:\n",
    "        for k in range(n-1):\n",
    "            if array[k] != array[k+1]:\n",
    "                return False\n",
    "    else: # We are checking if it's increasing array[0] < array [n-1]\n",
    "        for k in range(n-1):\n",
    "            if array[k] > array[k+1]: # so 1 > 2 is False \n",
    "                return False\n",
    "    return True\n",
    "\n",
    "print(monotonic_array([1,2,2,3,5,9]))\n"
   ]
  },
  {
   "cell_type": "code",
   "execution_count": 10,
   "metadata": {},
   "outputs": [
    {
     "name": "stdout",
     "output_type": "stream",
     "text": [
      "1\n",
      "2\n",
      "3\n",
      "4\n",
      "5\n",
      "6\n",
      "7\n",
      "8\n",
      "9\n",
      "10\n"
     ]
    }
   ],
   "source": [
    "def print_number(n):\n",
    "    if n > 10:\n",
    "        return\n",
    "    print(n)\n",
    "    n += 1\n",
    "    print_number(n)\n",
    "    \n",
    "print_number(n=1)"
   ]
  },
  {
   "cell_type": "code",
   "execution_count": 16,
   "metadata": {},
   "outputs": [
    {
     "name": "stdout",
     "output_type": "stream",
     "text": [
      "120\n"
     ]
    }
   ],
   "source": [
    "def factorial(n):\n",
    "    if n == 0 or n == 1:\n",
    "        return 1\n",
    "    fact = n * factorial(n-1)\n",
    "    return fact\n",
    "    \n",
    "print(factorial(5))\n",
    "    "
   ]
  },
  {
   "cell_type": "code",
   "execution_count": 33,
   "metadata": {},
   "outputs": [
    {
     "name": "stdout",
     "output_type": "stream",
     "text": [
      "4 3 2 1 1 2 3 4 "
     ]
    }
   ],
   "source": [
    "def seq_num(n):\n",
    "    if n == 0:\n",
    "        return\n",
    "    print(n, end= ' ')\n",
    "    seq_num(n-1)\n",
    "    print(n, end= ' ')\n",
    "seq_num(4)"
   ]
  },
  {
   "cell_type": "code",
   "execution_count": 37,
   "metadata": {},
   "outputs": [
    {
     "name": "stdout",
     "output_type": "stream",
     "text": [
      "15\n"
     ]
    }
   ],
   "source": [
    "def sum(current, last):\n",
    "    if current == last: \n",
    "        return last\n",
    "    return sum(current= current + 1, last=last) + current\n",
    "\n",
    "\n",
    "print(sum(current = 0, last = 5))"
   ]
  },
  {
   "cell_type": "code",
   "execution_count": 3,
   "metadata": {},
   "outputs": [
    {
     "name": "stdout",
     "output_type": "stream",
     "text": [
      "4\n"
     ]
    }
   ],
   "source": [
    "k = 8\n",
    "m = k // 2\n",
    "print(m)"
   ]
  },
  {
   "cell_type": "code",
   "execution_count": 5,
   "metadata": {},
   "outputs": [
    {
     "name": "stdout",
     "output_type": "stream",
     "text": [
      "1\n"
     ]
    }
   ],
   "source": [
    "def kth_grammar(n, k):\n",
    "    # 0\n",
    "    # 0 1\n",
    "    # 0 1 1 0\n",
    "    # 0 1 1 0 1 0 0 1\n",
    "    if n == 1: return 0\n",
    "    length = 2**(n-1)\n",
    "    mid = length // 2\n",
    "    if k <= mid:\n",
    "        return kth_grammar(n-1, k)\n",
    "    else:\n",
    "        return 1 - kth_grammar(n-1, k - mid)\n",
    "        # return int(not kth_grammar(n-1, k - mid))\n",
    "    \n",
    "print(kth_grammar(4,8))"
   ]
  }
 ],
 "metadata": {
  "kernelspec": {
   "display_name": "Python 3",
   "language": "python",
   "name": "python3"
  },
  "language_info": {
   "codemirror_mode": {
    "name": "ipython",
    "version": 3
   },
   "file_extension": ".py",
   "mimetype": "text/x-python",
   "name": "python",
   "nbconvert_exporter": "python",
   "pygments_lexer": "ipython3",
   "version": "3.12.4"
  }
 },
 "nbformat": 4,
 "nbformat_minor": 2
}

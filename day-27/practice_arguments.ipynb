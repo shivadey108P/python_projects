{
 "cells": [
  {
   "cell_type": "code",
   "execution_count": 3,
   "metadata": {},
   "outputs": [
    {
     "name": "stdout",
     "output_type": "stream",
     "text": [
      "22\n"
     ]
    }
   ],
   "source": [
    "def add(*num):\n",
    "    return sum([n for n in num])\n",
    "\n",
    "print(add(1,3,5,6,7))"
   ]
  },
  {
   "cell_type": "code",
   "execution_count": 15,
   "metadata": {},
   "outputs": [
    {
     "name": "stdout",
     "output_type": "stream",
     "text": [
      "[2, 3, 2, 3, 4, 6, 9, 1, 1, 1]\n"
     ]
    }
   ],
   "source": [
    "list1 = [1,2,3,1,2,3,4,1,6,9]\n",
    "# [2,3,2,3,4,6, 9,1,1,1]\n",
    "# count = 0\n",
    "l= [num for num in list1 if num !=1 ] + [num for num in list1 if num ==1 ]\n",
    "print(l)"
   ]
  }
 ],
 "metadata": {
  "kernelspec": {
   "display_name": ".venv",
   "language": "python",
   "name": "python3"
  },
  "language_info": {
   "codemirror_mode": {
    "name": "ipython",
    "version": 3
   },
   "file_extension": ".py",
   "mimetype": "text/x-python",
   "name": "python",
   "nbconvert_exporter": "python",
   "pygments_lexer": "ipython3",
   "version": "3.12.4"
  }
 },
 "nbformat": 4,
 "nbformat_minor": 2
}

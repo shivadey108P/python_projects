{
 "cells": [
  {
   "cell_type": "code",
   "execution_count": 7,
   "metadata": {},
   "outputs": [
    {
     "name": "stdout",
     "output_type": "stream",
     "text": [
      "23.55\n"
     ]
    }
   ],
   "source": [
    "height = float(input('Enter your height(cm): '))\n",
    "weight = float(input('Enter your weight(kgs): '))\n",
    "\n",
    "if height > 300:\n",
    "    raise ValueError(\"A human cannot exceeds 300 cms, please enter a valid input\")\n",
    "if weight > 2000:\n",
    "    raise ValueError('A human cannot exceeds 2000 kgs, please enter a valid input')\n",
    "\n",
    "height = round(height/100, 2)\n",
    "\n",
    "bmi = round(weight / height ** 2,2)\n",
    "\n",
    "print(bmi)\n"
   ]
  }
 ],
 "metadata": {
  "kernelspec": {
   "display_name": "Python 3",
   "language": "python",
   "name": "python3"
  },
  "language_info": {
   "codemirror_mode": {
    "name": "ipython",
    "version": 3
   },
   "file_extension": ".py",
   "mimetype": "text/x-python",
   "name": "python",
   "nbconvert_exporter": "python",
   "pygments_lexer": "ipython3",
   "version": "3.12.2"
  }
 },
 "nbformat": 4,
 "nbformat_minor": 2
}

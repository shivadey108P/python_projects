{
 "cells": [
  {
   "cell_type": "code",
   "execution_count": 24,
   "id": "a529735d",
   "metadata": {},
   "outputs": [
    {
     "name": "stdout",
     "output_type": "stream",
     "text": [
      "api\n"
     ]
    }
   ],
   "source": [
    "words = [\"api\", \"lambda\", \"api\", \"s3\", \"lambda\", \"lambda\", \"api\", \"s3\", \"s3\"]\n",
    "\n",
    "def frequent_words(words):\n",
    "    hash = {}\n",
    "    \n",
    "    for word in words:\n",
    "        hash[word] = hash.get(word, 0) + 1\n",
    "\n",
    "    # Find the word(s) with the highest frequency\n",
    "    max_count = max(hash.values())\n",
    "    result = [key for key, value in hash.items() if value == max_count]\n",
    "    return sorted(result)[0]\n",
    "\n",
    "print(frequent_words(words))"
   ]
  },
  {
   "cell_type": "code",
   "execution_count": 11,
   "id": "12265024",
   "metadata": {},
   "outputs": [
    {
     "name": "stdout",
     "output_type": "stream",
     "text": [
      "['gmail.com', 'yahoo.com']\n"
     ]
    }
   ],
   "source": [
    "records = [\n",
    "  {\"id\": 1, \"status\": \"active\", \"email\": \"bob@gmail.com\"},\n",
    "  {\"id\": 2, \"status\": \"inactive\", \"email\": \"alice@yahoo.com\"},\n",
    "  {\"id\": 3, \"status\": \"active\", \"email\": \"jake@gmail.com\"},\n",
    "  {\"id\": 4, \"status\": \"active\", \"email\": \"tom@yahoo.com\"},\n",
    "]\n",
    "\n",
    "\n",
    "def active_email(records):\n",
    "    hash = {}\n",
    "    for item in records:\n",
    "        if item.get('status') == 'active':\n",
    "            hash[item.get('email').split('@')[1]] = hash.get(item.get('email').split('@')[1], 0)+1\n",
    "    \n",
    "    result = [key for key, value in hash.items() ]\n",
    "    return result\n",
    "\n",
    "print(active_email(records=records))"
   ]
  },
  {
   "cell_type": "code",
   "execution_count": 19,
   "id": "59e47a4c",
   "metadata": {},
   "outputs": [
    {
     "name": "stdout",
     "output_type": "stream",
     "text": [
      "3\n"
     ]
    }
   ],
   "source": [
    "logs = [\n",
    "  {\"time\": \"2023-01-01T00:00\", \"status\": 200},\n",
    "  {\"time\": \"2023-01-01T00:01\", \"status\": 404},\n",
    "  {\"time\": \"2023-01-01T00:02\", \"status\": 200},\n",
    "  {\"time\": \"2023-01-01T00:03\", \"status\": 200},\n",
    "  {\"time\": \"2023-01-01T00:04\", \"status\": 500},\n",
    "  {\"time\": \"2023-01-01T00:05\", \"status\": 200},\n",
    "  {\"time\": \"2023-01-01T00:06\", \"status\": 200},\n",
    "  {\"time\": \"2023-01-01T00:07\", \"status\": 200},\n",
    "]\n",
    "\n",
    "\n",
    "def get_streak_200(logs):\n",
    "    hash = {}\n",
    "    count = 0\n",
    "    count_200 = 0\n",
    "    for log in logs:\n",
    "        if log.get('status') == 200:\n",
    "            count_200 += 1\n",
    "            hash[f\"200_{count}\"] = count_200\n",
    "        if log.get('status') != 200:\n",
    "            count_200 = 0\n",
    "            count +=1\n",
    "            \n",
    "    max_count= max(hash.values())\n",
    "    result  = [value for key, value in hash.items() if value == max_count]\n",
    "    return result[0]\n",
    "\n",
    "print(get_streak_200(logs))"
   ]
  }
 ],
 "metadata": {
  "kernelspec": {
   "display_name": "Python 3",
   "language": "python",
   "name": "python3"
  },
  "language_info": {
   "codemirror_mode": {
    "name": "ipython",
    "version": 3
   },
   "file_extension": ".py",
   "mimetype": "text/x-python",
   "name": "python",
   "nbconvert_exporter": "python",
   "pygments_lexer": "ipython3",
   "version": "3.12.2"
  }
 },
 "nbformat": 4,
 "nbformat_minor": 5
}

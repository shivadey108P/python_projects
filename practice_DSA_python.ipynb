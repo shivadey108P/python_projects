{
 "cells": [
  {
   "cell_type": "code",
   "execution_count": 1,
   "metadata": {},
   "outputs": [
    {
     "name": "stdout",
     "output_type": "stream",
     "text": [
      "[1, 4, 4, 16, 25, 81]\n"
     ]
    }
   ],
   "source": [
    "array = [-4, -2, 1, 2, 5, 9]\n",
    "new_array = [arr**2 for arr in array]\n",
    "new_array.sort()\n",
    "print(new_array)"
   ]
  },
  {
   "cell_type": "code",
   "execution_count": 2,
   "metadata": {},
   "outputs": [
    {
     "name": "stdout",
     "output_type": "stream",
     "text": [
      "[0, 1, 4, 4, 16, 25]\n"
     ]
    }
   ],
   "source": [
    "def sorted_squared(array):\n",
    "    new_array = [0]*len(array)\n",
    "    for i in range(len(array) - 1):\n",
    "        new_array[i] = array[i] ** 2\n",
    "    new_array.sort()\n",
    "    return new_array\n",
    "\n",
    "print(sorted_squared([-4, -2, 1, 2, 5, 9]))"
   ]
  },
  {
   "cell_type": "code",
   "execution_count": 3,
   "metadata": {},
   "outputs": [
    {
     "name": "stdout",
     "output_type": "stream",
     "text": [
      "[1, 4, 4, 16, 25, 81, 121]\n"
     ]
    }
   ],
   "source": [
    "def sorted_squared(array):\n",
    "    n = len(array)\n",
    "    i, j = 0, n-1\n",
    "    result = [0]*n\n",
    "    for k in reversed(range(n)):\n",
    "        if array[i]**2 > array[j]**2:\n",
    "            result[k] = array[i]**2\n",
    "            i += 1\n",
    "        else:\n",
    "            result[k] = array[j]**2\n",
    "            j -= 1\n",
    "    return result\n",
    "\n",
    "\n",
    "print(sorted_squared([-11, -4, -2, 1, 2, 5, 9]))"
   ]
  },
  {
   "cell_type": "code",
   "execution_count": 15,
   "metadata": {},
   "outputs": [
    {
     "data": {
      "text/plain": [
       "[1, 4, 4, 16, 25, 36, 121]"
      ]
     },
     "execution_count": 15,
     "metadata": {},
     "output_type": "execute_result"
    }
   ],
   "source": [
    "def sorted_square(array):\n",
    "    squares = [x**2 for x in array]\n",
    "    return sorted(squares)\n",
    "\n",
    "sorted_square([-11, -4, -2, -1, 2, 5, 6])"
   ]
  },
  {
   "cell_type": "code",
   "execution_count": 5,
   "metadata": {},
   "outputs": [
    {
     "name": "stdout",
     "output_type": "stream",
     "text": [
      "True\n"
     ]
    }
   ],
   "source": [
    "def monotonic_array(array):\n",
    "    n = len(array)\n",
    "        \n",
    "    if n == 0 or n == 1:\n",
    "        return True\n",
    "    \n",
    "    increasing = True\n",
    "    decreasing = True\n",
    "    \n",
    "    for i in range(n-1):\n",
    "        if array[i] > array[i+1]:\n",
    "            increasing = False\n",
    "        elif array[i] < array[i+1]:\n",
    "            decreasing = False\n",
    "    \n",
    "    return increasing or decreasing\n",
    "\n",
    "print(monotonic_array([3,2,2,1]))\n"
   ]
  },
  {
   "cell_type": "code",
   "execution_count": 6,
   "metadata": {},
   "outputs": [
    {
     "name": "stdout",
     "output_type": "stream",
     "text": [
      "True\n"
     ]
    }
   ],
   "source": [
    "def monotonic_array(array): # [1,2,3]\n",
    "    n = len(array) \n",
    "    if n == 0: return True\n",
    "    if array[0] > array[n-1]:# Checking if it's decreasing\n",
    "        for k in range(n-1):\n",
    "            if array[k] < array[k+1]: # 1< 2 is true, so it's not decreasing, so decreasing is False\n",
    "                return False\n",
    "    elif array[0] == array [n-1]:\n",
    "        for k in range(n-1):\n",
    "            if array[k] != array[k+1]:\n",
    "                return False\n",
    "    else: # We are checking if it's increasing array[0] < array [n-1]\n",
    "        for k in range(n-1):\n",
    "            if array[k] > array[k+1]: # so 1 > 2 is False \n",
    "                return False\n",
    "    return True\n",
    "\n",
    "print(monotonic_array([1,2,2,3,5,9]))\n"
   ]
  },
  {
   "cell_type": "code",
   "execution_count": 16,
   "metadata": {},
   "outputs": [
    {
     "name": "stdout",
     "output_type": "stream",
     "text": [
      "1\n",
      "2\n",
      "3\n",
      "4\n",
      "5\n",
      "6\n",
      "7\n",
      "8\n",
      "9\n",
      "10\n"
     ]
    }
   ],
   "source": [
    "def print_number(n):\n",
    "    if n > 10:\n",
    "        return\n",
    "    print(n)\n",
    "    n += 1\n",
    "    print_number(n)\n",
    "    \n",
    "print_number(n=1)"
   ]
  },
  {
   "cell_type": "code",
   "execution_count": 4,
   "metadata": {},
   "outputs": [
    {
     "name": "stdout",
     "output_type": "stream",
     "text": [
      "120\n"
     ]
    }
   ],
   "source": [
    "def factorial(n):\n",
    "    if n == 0 or n == 1:\n",
    "        return 1\n",
    "    fact = n * factorial(n-1) # 5*4*3*2*1\n",
    "    return fact\n",
    "    \n",
    "print(factorial(5))\n",
    "    "
   ]
  },
  {
   "cell_type": "code",
   "execution_count": 33,
   "metadata": {},
   "outputs": [
    {
     "name": "stdout",
     "output_type": "stream",
     "text": [
      "4 3 2 1 1 2 3 4 "
     ]
    }
   ],
   "source": [
    "def seq_num(n):\n",
    "    if n == 0:\n",
    "        return\n",
    "    print(n, end= ' ')\n",
    "    seq_num(n-1)\n",
    "    print(n, end= ' ')\n",
    "seq_num(4)"
   ]
  },
  {
   "cell_type": "code",
   "execution_count": 37,
   "metadata": {},
   "outputs": [
    {
     "name": "stdout",
     "output_type": "stream",
     "text": [
      "15\n"
     ]
    }
   ],
   "source": [
    "def sum(current, last):\n",
    "    if current == last: \n",
    "        return last\n",
    "    return sum(current= current + 1, last=last) + current\n",
    "\n",
    "\n",
    "print(sum(current = 0, last = 5))"
   ]
  },
  {
   "cell_type": "code",
   "execution_count": 9,
   "metadata": {},
   "outputs": [
    {
     "name": "stdout",
     "output_type": "stream",
     "text": [
      "4\n"
     ]
    }
   ],
   "source": [
    "k = 8\n",
    "m = k // 2\n",
    "print(m)"
   ]
  },
  {
   "cell_type": "code",
   "execution_count": 6,
   "metadata": {},
   "outputs": [
    {
     "name": "stdout",
     "output_type": "stream",
     "text": [
      "0\n"
     ]
    }
   ],
   "source": [
    "def kth_grammar(n, k):\n",
    "    # 0\n",
    "    # 0 1\n",
    "    # 0 1 1 0\n",
    "    # 0 1 1 0 1 0 0 1\n",
    "    if n == 1: return 0\n",
    "    length = 2**(n-1)\n",
    "    mid = length // 2\n",
    "    if k <= mid:\n",
    "        return kth_grammar(n-1, k)\n",
    "    else:\n",
    "        return 1 - kth_grammar(n-1, k - mid)\n",
    "        # return int(not kth_grammar(n-1, k - mid))\n",
    "    \n",
    "print(kth_grammar(4,7))"
   ]
  },
  {
   "cell_type": "code",
   "execution_count": 18,
   "metadata": {},
   "outputs": [
    {
     "name": "stdout",
     "output_type": "stream",
     "text": [
      "3\n"
     ]
    }
   ],
   "source": [
    "def findTheWinner(n, k):\n",
    "    arr = [i+1 for i in range(n)]\n",
    "    def helper(arr, start_index):\n",
    "        length = len(arr)\n",
    "        if length == 1:\n",
    "            return arr[0]\n",
    "        index_to_remove = (start_index + k - 1) % length\n",
    "        del arr[index_to_remove]\n",
    "        return helper(arr, index_to_remove)\n",
    "    \n",
    "    return helper(arr, 0)\n",
    "\n",
    "\n",
    "print(findTheWinner(5,2))\n",
    "    "
   ]
  },
  {
   "cell_type": "code",
   "execution_count": null,
   "metadata": {},
   "outputs": [],
   "source": [
    "def find_the_winner(n, k):\n",
    "    arr = [i for i in range(n)]\n",
    "    def helper(arr, starting_index):\n",
    "        length_of_array = len(arr)\n",
    "        if length_of_array == 1:\n",
    "            return\n",
    "    return helper(arr, 0)\n",
    "\n",
    "find_the_winner(5,2)"
   ]
  },
  {
   "cell_type": "code",
   "execution_count": 4,
   "metadata": {},
   "outputs": [
    {
     "name": "stdout",
     "output_type": "stream",
     "text": [
      "txt\n"
     ]
    }
   ],
   "source": [
    "data_file_name =  'C:/ProgramFiles/file.name.txt'\n",
    "extension_name =  data_file_name.split(\".\")[-1]\n",
    "print(extension_name)"
   ]
  },
  {
   "cell_type": "code",
   "execution_count": 13,
   "metadata": {},
   "outputs": [
    {
     "name": "stdout",
     "output_type": "stream",
     "text": [
      "<class 'float'>\n"
     ]
    }
   ],
   "source": [
    "text = '   ₹4,699.00 with 59 percent savings    '\n",
    "new_text = float(text.split('₹')[1].split(' ')[0].replace(',',''))\n",
    "print(type(new_text))\n"
   ]
  },
  {
   "cell_type": "code",
   "execution_count": 15,
   "metadata": {},
   "outputs": [
    {
     "name": "stdout",
     "output_type": "stream",
     "text": [
      "23690.0\n"
     ]
    }
   ],
   "source": [
    "text = '23,690'\n",
    "new_text = float(text.replace(',', ''))\n",
    "print(new_text)"
   ]
  },
  {
   "cell_type": "code",
   "execution_count": 3,
   "metadata": {},
   "outputs": [
    {
     "name": "stdout",
     "output_type": "stream",
     "text": [
      "15\n"
     ]
    }
   ],
   "source": [
    "text = 'Cursor - 15'\n",
    "new_text = int(text.replace(',','').split('-')[1].strip())\n",
    "print(new_text)"
   ]
  },
  {
   "cell_type": "code",
   "execution_count": 21,
   "metadata": {},
   "outputs": [
    {
     "name": "stdout",
     "output_type": "stream",
     "text": [
      "factory\n"
     ]
    }
   ],
   "source": [
    "money = 600\n",
    "upgrades = {'cursor':15,\n",
    "            'grandma':100,\n",
    "            'factory': 500,\n",
    "            'mine':2000,\n",
    "            'shipment':7000,\n",
    "            'alchemy lab':50000,\n",
    "            'portal':1000000,\n",
    "            'time machine': 123456789}\n",
    "\n",
    "def get_key_by_value(d, value):\n",
    "    for key, val in d.items():\n",
    "        if val == value:\n",
    "            return key\n",
    "    return 'No value found matching your description'\n",
    "\n",
    "# print(get_key_by_value(upgrades, 500))\n",
    "\n",
    "\n",
    "# for key, value in range(len(upgrades)):\n",
    "#     if upgrades[up] < money < upgrades[up+1]:\n",
    "#         print(upgrades[up])"
   ]
  },
  {
   "cell_type": "code",
   "execution_count": 40,
   "metadata": {},
   "outputs": [
    {
     "name": "stdout",
     "output_type": "stream",
     "text": [
      "[('cursor', 15), ('grandma', 100), ('factory', 500), ('mine', 2000), ('shipment', 7000), ('alchemy lab', 50000), ('portal', 1000000), ('time machine', 123456789)]\n",
      "['factory']\n",
      "upgrade: factory\n"
     ]
    }
   ],
   "source": [
    "money = 550\n",
    "upgrades = {\n",
    "    'cursor': 15,\n",
    "    'grandma': 100,\n",
    "    'factory': 500,\n",
    "    'mine': 2000,\n",
    "    'shipment': 7000,\n",
    "    'alchemy lab': 50000,\n",
    "    'portal': 1000000,\n",
    "    'time machine': 123456789\n",
    "}\n",
    "\n",
    "# Convert dictionary items to a list of tuples\n",
    "items_list = list(upgrades.items())\n",
    "\n",
    "# # Access the key-value pair by index\n",
    "# index = 1\n",
    "# key, value = items_list[index]\n",
    "\n",
    "print(items_list)\n",
    "suitable_upgrade = []\n",
    "\n",
    "for up in range(len(upgrades)):\n",
    "    if items_list[up][1] <= money <= items_list[up+1][1]:\n",
    "        suitable_upgrade.append(items_list[up][0])\n",
    "\n",
    "print(suitable_upgrade)\n",
    "\n",
    "if len(suitable_upgrade)>1:\n",
    "    print(f'upgrade: {suitable_upgrade[-1]}')\n",
    "else:\n",
    "    print(f'upgrade: {suitable_upgrade[0]}')\n",
    "\n",
    "# print(f\"At index {index}, the key is '{key}' and the value is {value}.\")"
   ]
  },
  {
   "cell_type": "code",
   "execution_count": 24,
   "metadata": {},
   "outputs": [
    {
     "name": "stdout",
     "output_type": "stream",
     "text": [
      "Cursor \n"
     ]
    }
   ],
   "source": [
    "text = 'Cursor - 15'\n",
    "new_text = text.split('-')[0]\n",
    "print(new_text)"
   ]
  },
  {
   "cell_type": "code",
   "execution_count": 25,
   "metadata": {},
   "outputs": [
    {
     "name": "stdout",
     "output_type": "stream",
     "text": [
      "{'cursor': 15, 'grandma': 100, 'factory': 500, 'mine': 2000, 'shipment': 7000, 'alchemy lab': 50000, 'portal': 1000000, 'time machine': 123456789}\n"
     ]
    }
   ],
   "source": [
    "price_list = [15, 100, 500, 2000, 7000, 50000, 1000000, 123456789]\n",
    "upgrade_list = ['cursor', 'grandma', 'factory', 'mine', 'shipment', 'alchemy lab', 'portal', 'time machine']\n",
    "new_dict = {}\n",
    "for n in range(len(price_list)):\n",
    "    new_dict[upgrade_list[n]] = price_list[n]\n",
    "    \n",
    "print(new_dict)"
   ]
  },
  {
   "cell_type": "code",
   "execution_count": 2,
   "metadata": {},
   "outputs": [
    {
     "name": "stdout",
     "output_type": "stream",
     "text": [
      "Alchemy\\ lab\n"
     ]
    }
   ],
   "source": [
    "text = 'Alchemy lab'\n",
    "if \" \" in text:\n",
    "    text = text.replace(\" \",\"\\\\ \")\n",
    "print(text)"
   ]
  },
  {
   "cell_type": "code",
   "execution_count": 2,
   "metadata": {},
   "outputs": [
    {
     "name": "stdout",
     "output_type": "stream",
     "text": [
      "move disk 1 from rod 1 to rod 3\n",
      "move disk 2 from rod 1 to rod 2\n",
      "move disk 1 from rod 3 to rod 2\n",
      "move disk 3 from rod 1 to rod 3\n",
      "move disk 1 from rod 2 to rod 1\n",
      "move disk 2 from rod 2 to rod 3\n",
      "move disk 1 from rod 1 to rod 3\n"
     ]
    },
    {
     "data": {
      "text/plain": [
       "7"
      ]
     },
     "execution_count": 2,
     "metadata": {},
     "output_type": "execute_result"
    }
   ],
   "source": [
    "def tower_of_hanoi(N, fromm, to, aux):\n",
    "    count = 0\n",
    "    \n",
    "    def helper(N, fromm, to, aux):\n",
    "        nonlocal count\n",
    "        # Base Case:\n",
    "        if N == 1:\n",
    "            print(f\"move disk {str(N)} from rod {str(fromm)} to rod {str(to)}\")\n",
    "            count += 1\n",
    "            return\n",
    "        \n",
    "        # Recursive Case:\n",
    "        helper(N-1,fromm, aux, to)\n",
    "        print(f\"move disk {str(N)} from rod {str(fromm)} to rod {str(to)}\")\n",
    "        count += 1\n",
    "        helper(N-1, aux, to, fromm)\n",
    "    helper(N, fromm, to, aux)\n",
    "    return count\n",
    "\n",
    "tower_of_hanoi(3,1,3,2)"
   ]
  },
  {
   "cell_type": "code",
   "execution_count": 9,
   "metadata": {},
   "outputs": [],
   "source": [
    "def sum_pow(array, power=1):\n",
    "    sum = 0\n",
    "    \n",
    "    for i in array:\n",
    "        if isinstance(i, list):\n",
    "            sum += sum_pow(i, power+1)\n",
    "        else:\n",
    "            sum += i\n",
    "    \n",
    "    return pow(sum, power)\n",
    "\n",
    "array = [1,2,[3,4], [[2]]] \n",
    "sum_pow(array=array)"
   ]
  },
  {
   "cell_type": "code",
   "execution_count": 7,
   "metadata": {},
   "outputs": [
    {
     "name": "stdout",
     "output_type": "stream",
     "text": [
      "120\n"
     ]
    }
   ],
   "source": [
    "n =5\n",
    "fact = 1\n",
    "for i in range(1,n+1):\n",
    "    fact *= i\n",
    "    \n",
    "print(fact)"
   ]
  },
  {
   "cell_type": "code",
   "execution_count": 2,
   "metadata": {},
   "outputs": [
    {
     "name": "stdout",
     "output_type": "stream",
     "text": [
      "T\n",
      "e\n",
      "s\n",
      "t\n",
      " \n",
      "P\n",
      "r\n",
      "o\n",
      "g\n",
      "r\n",
      "a\n",
      "m\n"
     ]
    }
   ],
   "source": [
    "a = 'Test Program'\n",
    "\n",
    "for i in a:\n",
    "    print(i,)"
   ]
  },
  {
   "cell_type": "code",
   "execution_count": 4,
   "metadata": {},
   "outputs": [
    {
     "name": "stdout",
     "output_type": "stream",
     "text": [
      "! ! ! ! ! \n",
      "\n",
      "! ! ! ! \n",
      "\n",
      "! ! ! \n",
      "\n",
      "! ! \n",
      "\n",
      "! \n",
      "\n"
     ]
    }
   ],
   "source": [
    "n = 5\n",
    "for i in range(5,0,-1):\n",
    "    for j in range(0,i):\n",
    "        print('!', end=' ')\n",
    "    print('\\n')"
   ]
  },
  {
   "cell_type": "code",
   "execution_count": 5,
   "metadata": {},
   "outputs": [
    {
     "name": "stdout",
     "output_type": "stream",
     "text": [
      "necmiru\n"
     ]
    }
   ],
   "source": [
    "sample = 'online compiler and debugger'\n",
    "list1 = sample.split(' ')\n",
    "x = list1[0][4::1]+list1[1][:5:2]+list1[3][-1::-4]\n",
    "print(x)"
   ]
  },
  {
   "cell_type": "code",
   "execution_count": 6,
   "metadata": {},
   "outputs": [
    {
     "name": "stdout",
     "output_type": "stream",
     "text": [
      "5\n"
     ]
    }
   ],
   "source": [
    "a =10\n",
    "\n",
    "if 0:\n",
    "    print(a)\n",
    "else:\n",
    "    print(5)"
   ]
  },
  {
   "cell_type": "code",
   "execution_count": 9,
   "metadata": {},
   "outputs": [
    {
     "name": "stdout",
     "output_type": "stream",
     "text": [
      "3\n",
      "7\n"
     ]
    }
   ],
   "source": [
    "for i in range(10):\n",
    "    if (i**2)%10 == 9:\n",
    "        print(i)"
   ]
  },
  {
   "cell_type": "code",
   "execution_count": 2,
   "metadata": {},
   "outputs": [
    {
     "name": "stdout",
     "output_type": "stream",
     "text": [
      "a is 8, b is 3\n",
      "a is 3, b is 8\n"
     ]
    }
   ],
   "source": [
    "a = 8\n",
    "b = 3\n",
    "\n",
    "print(f\"a is {a}, b is {b}\")\n",
    "\n",
    "a = a+b\n",
    "b = a-b\n",
    "a = a-b\n",
    "\n",
    "print(f\"a is {a}, b is {b}\")"
   ]
  },
  {
   "cell_type": "code",
   "execution_count": 3,
   "metadata": {},
   "outputs": [
    {
     "name": "stdout",
     "output_type": "stream",
     "text": [
      "Even\n"
     ]
    }
   ],
   "source": [
    "number = int(input(\"Enter a number: \"))\n",
    "\n",
    "print('Even' if number % 2 == 0 else 'Odd')"
   ]
  },
  {
   "cell_type": "code",
   "execution_count": 5,
   "metadata": {},
   "outputs": [
    {
     "name": "stdout",
     "output_type": "stream",
     "text": [
      "[[1, 2, 2], [1, 2, 2], [2, 1, 2], [2, 2, 1], [2, 2, 1], [2, 1, 2]]\n"
     ]
    }
   ],
   "source": [
    "def permute(array):\n",
    "    n = len(array)\n",
    "    res = []\n",
    "    \n",
    "    def helper(index):\n",
    "        if index == n-1:\n",
    "            res.append(array[:])\n",
    "            return \n",
    "        for j in range(index, n):\n",
    "            array[index], array[j] = array[j], array[index]\n",
    "            helper(index+1)\n",
    "            array[index], array[j] = array[j], array[index]\n",
    "        \n",
    "    \n",
    "    helper(0)\n",
    "    return res\n",
    "\n",
    "\n",
    "print(permute([1,2,2]))"
   ]
  },
  {
   "cell_type": "code",
   "execution_count": 6,
   "metadata": {},
   "outputs": [
    {
     "data": {
      "text/plain": [
       "[[1, 1, 2], [1, 2, 1], [2, 1, 1]]"
      ]
     },
     "execution_count": 6,
     "metadata": {},
     "output_type": "execute_result"
    }
   ],
   "source": [
    "def permute(array):\n",
    "    res = []\n",
    "    n = len(array)\n",
    "    def helper(index):\n",
    "        if index == n-1:\n",
    "            res.append(array[:])\n",
    "            return\n",
    "        hash = {}\n",
    "        for j in range(index, n):\n",
    "            if array[j] not in hash:\n",
    "                hash[array[j]] = True\n",
    "                array[index], array[j] = array[j], array[index]\n",
    "                helper(index+1)\n",
    "                array[index], array[j] = array[j], array[index]\n",
    "        \n",
    "        \n",
    "    helper(0)\n",
    "    return res\n",
    "\n",
    "permute([1,1,2])\n",
    "    "
   ]
  },
  {
   "cell_type": "code",
   "execution_count": 18,
   "metadata": {},
   "outputs": [
    {
     "name": "stdout",
     "output_type": "stream",
     "text": [
      "[[], [3], [2], [2, 3], [1], [1, 3], [1, 2], [1, 2, 3]]\n"
     ]
    }
   ],
   "source": [
    "def power_set(array):\n",
    "    n = len(array)\n",
    "    output = []\n",
    "    def helper(array, index, subset):\n",
    "        if index == n:\n",
    "            output.append(subset.copy())\n",
    "            return\n",
    "        helper(array, index+1, subset)\n",
    "        subset.append(array[index])\n",
    "        helper(array, index+1, subset)\n",
    "        subset.pop()\n",
    "    helper(array, 0 , [])\n",
    "    return output\n",
    "\n",
    "\n",
    "print(power_set([1, 2, 3]))"
   ]
  },
  {
   "cell_type": "code",
   "execution_count": 30,
   "metadata": {},
   "outputs": [
    {
     "name": "stdout",
     "output_type": "stream",
     "text": [
      "[[1, 2, 3], [1, 2], [1, 3], [1], [2, 3], [2], [3], []]\n"
     ]
    }
   ],
   "source": [
    "def subset_with_dup(array):\n",
    "    array.sort()\n",
    "    n = len(array)\n",
    "    output = []\n",
    "    def helper(index, subset):\n",
    "        if index == n:\n",
    "            output.append(subset[:])\n",
    "            return\n",
    "        \n",
    "        # include\n",
    "        subset.append(array[index])\n",
    "        helper(index+1, subset)\n",
    "        subset.pop()\n",
    "        \n",
    "        # exclude\n",
    "        while index < n-1 and array[index] == array[index + 1]:\n",
    "            index += 1  \n",
    "        helper(index+1, subset)   \n",
    "        \n",
    "    helper(0,[])    \n",
    "    return output\n",
    "\n",
    "print(subset_with_dup([3,1,2]))"
   ]
  },
  {
   "cell_type": "code",
   "execution_count": 5,
   "metadata": {},
   "outputs": [
    {
     "name": "stdout",
     "output_type": "stream",
     "text": [
      "['january', 'february', 'march', 'april', 'may', 'june', 'july', 'august', 'september', 'october', 'november', 'december']\n"
     ]
    },
    {
     "data": {
      "text/plain": [
       "'february'"
      ]
     },
     "execution_count": 5,
     "metadata": {},
     "output_type": "execute_result"
    }
   ],
   "source": [
    "challenges = {\n",
    "    'january': \"Maintain proper diet and eat healthy food only, no Junk!\",\n",
    "    'february': \"Do workouts on daily basis!\",\n",
    "    'march': \"Complete Django course, study 1 section per day!\",\n",
    "    'april': \"Walk 10k steps daily\",\n",
    "    'may': \"Get a new python-full stalk web developer job\",\n",
    "    'june': \"Start preparing for AWS Developer certification course!\",\n",
    "    'july': \"Read 3 Canto in Bhavgwat-Gita daily.\",\n",
    "    'august': 'Complete python DSA course',\n",
    "    'september': 'Start calisthenics training',\n",
    "    'october': 'Start the python data analytics course',\n",
    "    'november': 'Complete AWS Developer certification',\n",
    "    'december': 'Save money and renovate your house.'\n",
    "}\n",
    "\n",
    "\n",
    "months = list(challenges.keys())\n",
    "print(months)\n",
    "\n",
    "months[1]"
   ]
  },
  {
   "cell_type": "code",
   "execution_count": 12,
   "metadata": {},
   "outputs": [
    {
     "data": {
      "text/plain": [
       "[[1, 2], [1, 3], [1, 4], [2, 3], [2, 4], [3, 4]]"
      ]
     },
     "execution_count": 12,
     "metadata": {},
     "output_type": "execute_result"
    }
   ],
   "source": [
    "def combine(n,k):\n",
    "    output = []\n",
    "    def helper(start, current):\n",
    "        if len(current) == k:\n",
    "            output.append(current[:])\n",
    "            return\n",
    "        need = k-len(current)\n",
    "        for j in range(start, n-(need-1)+1):\n",
    "            current.append(j)\n",
    "            helper(j+1, current)\n",
    "            current.pop()\n",
    "    \n",
    "    helper(1, [])\n",
    "    return output\n",
    "    \n",
    "combine(4,2)"
   ]
  },
  {
   "cell_type": "code",
   "execution_count": 18,
   "metadata": {},
   "outputs": [
    {
     "name": "stdout",
     "output_type": "stream",
     "text": [
      "2024\n"
     ]
    }
   ],
   "source": [
    "from datetime import date\n",
    "\n",
    "# today = datetime.datetime.now()\n",
    "\n",
    "print(date.today().year)"
   ]
  },
  {
   "cell_type": "code",
   "execution_count": 2,
   "metadata": {},
   "outputs": [
    {
     "name": "stdout",
     "output_type": "stream",
     "text": [
      "[[2, 2, 3], [2, 5], [3, 4]]\n"
     ]
    }
   ],
   "source": [
    "def combinationSum(candidate_array, target):\n",
    "    res = []\n",
    "    n = len(candidate_array)\n",
    "    def helper(index, current, sum_array):\n",
    "        if sum_array > target :\n",
    "            return\n",
    "        if sum_array == target:\n",
    "            res.append(current[:])\n",
    "            return\n",
    "        for j in range(index, n):\n",
    "            current.append(candidate_array[j])\n",
    "            helper(j, current, sum_array+candidate_array[j])\n",
    "            current.pop()\n",
    "            \n",
    "    helper(0,[],0)\n",
    "    return res\n",
    "\n",
    "print(combinationSum([2,3,4,5], 7))"
   ]
  },
  {
   "cell_type": "code",
   "execution_count": 22,
   "metadata": {},
   "outputs": [
    {
     "name": "stdout",
     "output_type": "stream",
     "text": [
      "[[3, 3]]\n"
     ]
    }
   ],
   "source": [
    "def twoSum(nums, target):\n",
    "    res = []\n",
    "    n = len(nums)\n",
    "    def helper(index, current, sum_check):\n",
    "        if sum_check > target:\n",
    "            return\n",
    "        if sum_check == target:\n",
    "            res.append(current[:])\n",
    "            return\n",
    "        for j in range(index, n):\n",
    "            current.append(nums[j])\n",
    "            helper(j+1, current, sum_check + nums[j])\n",
    "            current.pop()\n",
    "            \n",
    "    helper(0, [], 0)\n",
    "    return res\n",
    "\n",
    "print(twoSum([3,3], 6))"
   ]
  },
  {
   "cell_type": "code",
   "execution_count": 26,
   "metadata": {},
   "outputs": [
    {
     "name": "stdout",
     "output_type": "stream",
     "text": [
      "[1, 2]\n"
     ]
    }
   ],
   "source": [
    "def twoSum(nums, target):\n",
    "    num_to_index = {}  # Dictionary to store numbers and their indices\n",
    "    for i, num in enumerate(nums):\n",
    "        complement = target - num  # Find the complement\n",
    "        if complement in num_to_index:\n",
    "            return [num_to_index[complement], i]  # Return the indices\n",
    "        num_to_index[num] = i  # Add the current number to the dictionary\n",
    "    return []  # Fallback (though the problem guarantees a solution)\n",
    "\n",
    "candidate_array = [3,2,4]\n",
    "target = 6\n",
    "result = twoSum(candidate_array, target)\n",
    "print(result)\n",
    "        \n"
   ]
  },
  {
   "cell_type": "code",
   "execution_count": 9,
   "metadata": {},
   "outputs": [
    {
     "name": "stdout",
     "output_type": "stream",
     "text": [
      "[1, 2]\n",
      "{3: 0, 2: 1, 4: 2}\n"
     ]
    }
   ],
   "source": [
    "nums = [3,2,4]\n",
    "target = 6\n",
    "hash = {}\n",
    "for i, num in enumerate(nums):\n",
    "    complement = target - num\n",
    "    if complement in hash:\n",
    "        print([hash[complement], i])\n",
    "    hash[num] = i\n",
    "    \n",
    "print(hash)\n",
    "\n",
    "    "
   ]
  },
  {
   "cell_type": "code",
   "execution_count": 20,
   "metadata": {},
   "outputs": [
    {
     "name": "stdout",
     "output_type": "stream",
     "text": [
      "From the... --> 2024-12-04\n"
     ]
    }
   ],
   "source": [
    "from datetime import date\n",
    "\n",
    "date_now = date.today()\n",
    "\n",
    "title = \"From the\"\n",
    "\n",
    "print(f\"{title[:15]}... --> {date_now}\")"
   ]
  },
  {
   "cell_type": "code",
   "execution_count": 15,
   "metadata": {},
   "outputs": [
    {
     "name": "stdout",
     "output_type": "stream",
     "text": [
      "[7, 0, 8]\n"
     ]
    }
   ],
   "source": [
    "l1 = [2,4,3]\n",
    "l2 = [5,6,4]\n",
    "\n",
    "num1 = \"\"\n",
    "num2 = \"\"\n",
    "for i in reversed(range(0, len(l1))):\n",
    "    num1 += str(l1[i])\n",
    "\n",
    "for i in reversed(range(0, len(l2))):\n",
    "    num2 += str(l2[i])\n",
    "\n",
    "result_num = int(num1) + int(num2)\n",
    "\n",
    "res = []\n",
    "for i in reversed(str(result_num)):\n",
    "    res.append(int(i))\n",
    "    \n",
    "print(res)"
   ]
  },
  {
   "cell_type": "code",
   "execution_count": 8,
   "metadata": {},
   "outputs": [
    {
     "name": "stdout",
     "output_type": "stream",
     "text": [
      "4\n"
     ]
    }
   ],
   "source": [
    "count = 0\n",
    "array = [-1,0,1,2,3]\n",
    "\n",
    "for num in array:\n",
    "    if (num):\n",
    "        count += 1\n",
    "\n",
    "print(count)"
   ]
  },
  {
   "cell_type": "code",
   "execution_count": 11,
   "metadata": {},
   "outputs": [
    {
     "name": "stdout",
     "output_type": "stream",
     "text": [
      "1\n"
     ]
    }
   ],
   "source": [
    "list1 = [1,2,3]\n",
    "print(int(list1[0]))"
   ]
  },
  {
   "cell_type": "code",
   "execution_count": 10,
   "metadata": {},
   "outputs": [
    {
     "data": {
      "text/plain": [
       "2"
      ]
     },
     "execution_count": 10,
     "metadata": {},
     "output_type": "execute_result"
    }
   ],
   "source": [
    "2%10 "
   ]
  }
 ],
 "metadata": {
  "kernelspec": {
   "display_name": "Python 3",
   "language": "python",
   "name": "python3"
  },
  "language_info": {
   "codemirror_mode": {
    "name": "ipython",
    "version": 3
   },
   "file_extension": ".py",
   "mimetype": "text/x-python",
   "name": "python",
   "nbconvert_exporter": "python",
   "pygments_lexer": "ipython3",
   "version": "3.12.2"
  }
 },
 "nbformat": 4,
 "nbformat_minor": 2
}

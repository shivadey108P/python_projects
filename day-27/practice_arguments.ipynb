{
 "cells": [
  {
   "cell_type": "code",
   "execution_count": 3,
   "metadata": {},
   "outputs": [
    {
     "name": "stdout",
     "output_type": "stream",
     "text": [
      "22\n"
     ]
    }
   ],
   "source": [
    "def add(*num):\n",
    "    return sum([n for n in num])\n",
    "\n",
    "print(add(1,3,5,6,7))"
   ]
  },
  {
   "cell_type": "code",
   "execution_count": 15,
   "metadata": {},
   "outputs": [
    {
     "name": "stdout",
     "output_type": "stream",
     "text": [
      "[2, 3, 2, 3, 4, 6, 9, 1, 1, 1]\n"
     ]
    }
   ],
   "source": [
    "list1 = [1,2,3,1,2,3,4,1,6,9]\n",
    "# [2,3,2,3,4,6, 9,1,1,1]\n",
    "# count = 0\n",
    "l= [num for num in list1 if num !=1 ] + [num for num in list1 if num ==1 ]\n",
    "print(l)"
   ]
  },
  {
   "cell_type": "code",
   "execution_count": 7,
   "metadata": {},
   "outputs": [
    {
     "name": "stdout",
     "output_type": "stream",
     "text": [
      "['Pear', 'Apple', 'Orange', 'Banana', 'Pineapple', 'Watermelon', 'Dragon Fruit']\n"
     ]
    }
   ],
   "source": [
    "words = ['Pear','Apple', 'Orange', 'Pineapple', 'Banana', 'Dragon Fruit', 'Watermelon']\n",
    "sorted_word = sorted(words, key=len)\n",
    "print(sorted_word)"
   ]
  },
  {
   "cell_type": "code",
   "execution_count": 15,
   "metadata": {},
   "outputs": [
    {
     "name": "stdout",
     "output_type": "stream",
     "text": [
      "['Pear', 'Apple', 'Orange', 'Banana', 'Pineapple', 'Watermelon', 'Dragon Fruit']\n"
     ]
    }
   ],
   "source": [
    "def bubble_sort(strings):\n",
    "\n",
    "    n = len(strings)\n",
    "\n",
    "    for i in range(n):\n",
    "\n",
    "        # print(i,n[i])\n",
    "\n",
    "        for j in range(0, n-i-1):\n",
    "\n",
    "            # print(j)\n",
    "\n",
    "            if len(strings[j]) > len(strings[j+1]):\n",
    "\n",
    "                # Swap if the element found is greater\n",
    "\n",
    "                # than the next element\n",
    "\n",
    "                strings[j], strings[j+1] = strings[j+1], strings[j]\n",
    "\n",
    "    return strings\n",
    "\n",
    "# Example usage:\n",
    "\n",
    "strings_list = ['Pear','Apple', 'Orange', 'Pineapple', 'Banana', 'Dragon Fruit', 'Watermelon']\n",
    "\n",
    "sorted_list = bubble_sort(strings_list)\n",
    "\n",
    "print(sorted_list)\n",
    "\n"
   ]
  },
  {
   "cell_type": "code",
   "execution_count": 11,
   "metadata": {},
   "outputs": [
    {
     "name": "stdout",
     "output_type": "stream",
     "text": [
      "['Pear', 'Apple', 'Orange', 'Banana']\n"
     ]
    }
   ],
   "source": [
    "words = ['Pear','Apple', 'Orange', 'Pineapple', 'Banana', 'Dragon Fruit', 'Watermelon']\n",
    "len_wise_words = []\n",
    "\n",
    "for i in range(len(words)-1):\n",
    "    if len(words[i]) < len(words[i+1]):\n",
    "        len_wise_words.append(words[i])\n",
    "    \n",
    "        \n",
    "print(len_wise_words)"
   ]
  }
 ],
 "metadata": {
  "kernelspec": {
   "display_name": ".venv",
   "language": "python",
   "name": "python3"
  },
  "language_info": {
   "codemirror_mode": {
    "name": "ipython",
    "version": 3
   },
   "file_extension": ".py",
   "mimetype": "text/x-python",
   "name": "python",
   "nbconvert_exporter": "python",
   "pygments_lexer": "ipython3",
   "version": "3.12.4"
  }
 },
 "nbformat": 4,
 "nbformat_minor": 2
}

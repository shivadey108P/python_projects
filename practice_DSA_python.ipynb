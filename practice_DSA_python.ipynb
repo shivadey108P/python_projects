{
 "cells": [
  {
   "cell_type": "code",
   "execution_count": 1,
   "metadata": {},
   "outputs": [
    {
     "name": "stdout",
     "output_type": "stream",
     "text": [
      "[1, 4, 4, 16, 25, 81]\n"
     ]
    }
   ],
   "source": [
    "array = [-4, -2, 1, 2, 5, 9]\n",
    "new_array = [arr**2 for arr in array]\n",
    "new_array.sort()\n",
    "print(new_array)"
   ]
  },
  {
   "cell_type": "code",
   "execution_count": 2,
   "metadata": {},
   "outputs": [
    {
     "name": "stdout",
     "output_type": "stream",
     "text": [
      "[0, 1, 4, 4, 16, 25]\n"
     ]
    }
   ],
   "source": [
    "def sorted_squared(array):\n",
    "    new_array = [0]*len(array)\n",
    "    for i in range(len(array) - 1):\n",
    "        new_array[i] = array[i] ** 2\n",
    "    new_array.sort()\n",
    "    return new_array\n",
    "\n",
    "print(sorted_squared([-4, -2, 1, 2, 5, 9]))"
   ]
  },
  {
   "cell_type": "code",
   "execution_count": 3,
   "metadata": {},
   "outputs": [
    {
     "name": "stdout",
     "output_type": "stream",
     "text": [
      "[1, 4, 4, 16, 25, 81, 121]\n"
     ]
    }
   ],
   "source": [
    "def sorted_squared(array):\n",
    "    n = len(array)\n",
    "    i, j = 0, n-1\n",
    "    result = [0]*n\n",
    "    for k in reversed(range(n)):\n",
    "        if array[i]**2 > array[j]**2:\n",
    "            result[k] = array[i]**2\n",
    "            i += 1\n",
    "        else:\n",
    "            result[k] = array[j]**2\n",
    "            j -= 1\n",
    "    return result\n",
    "\n",
    "\n",
    "print(sorted_squared([-11, -4, -2, 1, 2, 5, 9]))"
   ]
  },
  {
   "cell_type": "code",
   "execution_count": 4,
   "metadata": {},
   "outputs": [
    {
     "name": "stdout",
     "output_type": "stream",
     "text": [
      "[0, 0, 0, 0, 0, 0, 0]\n"
     ]
    }
   ],
   "source": [
    "def sorted_squared(array):\n",
    "    n = len(array)\n",
    "    i, j = 0, n-1\n",
    "    result = [0]*n\n",
    "    result = [result[k] if array[i]**2 > array[j]**2 else array[j]**2 for k in reversed(range(n))]\n",
    "    return result\n",
    "\n",
    "print(sorted_squared([-11, -4, -2, 1, 2, 5, 9]))"
   ]
  },
  {
   "cell_type": "code",
   "execution_count": 5,
   "metadata": {},
   "outputs": [
    {
     "name": "stdout",
     "output_type": "stream",
     "text": [
      "True\n"
     ]
    }
   ],
   "source": [
    "def monotonic_array(array):\n",
    "    n = len(array)\n",
    "        \n",
    "    if n == 0 or n == 1:\n",
    "        return True\n",
    "    \n",
    "    increasing = True\n",
    "    decreasing = True\n",
    "    \n",
    "    for i in range(n-1):\n",
    "        if array[i] > array[i+1]:\n",
    "            increasing = False\n",
    "        elif array[i] < array[i+1]:\n",
    "            decreasing = False\n",
    "    \n",
    "    return increasing or decreasing\n",
    "\n",
    "print(monotonic_array([3,2,2,1]))\n"
   ]
  },
  {
   "cell_type": "code",
   "execution_count": 6,
   "metadata": {},
   "outputs": [
    {
     "name": "stdout",
     "output_type": "stream",
     "text": [
      "True\n"
     ]
    }
   ],
   "source": [
    "def monotonic_array(array): # [1,2,3]\n",
    "    n = len(array) \n",
    "    if n == 0: return True\n",
    "    if array[0] > array[n-1]:# Checking if it's decreasing\n",
    "        for k in range(n-1):\n",
    "            if array[k] < array[k+1]: # 1< 2 is true, so it's not decreasing, so decreasing is False\n",
    "                return False\n",
    "    elif array[0] == array [n-1]:\n",
    "        for k in range(n-1):\n",
    "            if array[k] != array[k+1]:\n",
    "                return False\n",
    "    else: # We are checking if it's increasing array[0] < array [n-1]\n",
    "        for k in range(n-1):\n",
    "            if array[k] > array[k+1]: # so 1 > 2 is False \n",
    "                return False\n",
    "    return True\n",
    "\n",
    "print(monotonic_array([1,2,2,3,5,9]))\n"
   ]
  },
  {
   "cell_type": "code",
   "execution_count": 1,
   "metadata": {},
   "outputs": [
    {
     "ename": "KeyboardInterrupt",
     "evalue": "",
     "output_type": "error",
     "traceback": [
      "\u001b[1;31m---------------------------------------------------------------------------\u001b[0m",
      "\u001b[1;31mKeyboardInterrupt\u001b[0m                         Traceback (most recent call last)",
      "Cell \u001b[1;32mIn[1], line 8\u001b[0m\n\u001b[0;32m      5\u001b[0m     n \u001b[38;5;241m+\u001b[39m\u001b[38;5;241m=\u001b[39m \u001b[38;5;241m1\u001b[39m\n\u001b[0;32m      6\u001b[0m     print_number(n)\n\u001b[1;32m----> 8\u001b[0m \u001b[43mprint_number\u001b[49m\u001b[43m(\u001b[49m\u001b[43mn\u001b[49m\u001b[38;5;241;43m=\u001b[39;49m\u001b[38;5;241;43m1\u001b[39;49m\u001b[43m)\u001b[49m\n",
      "Cell \u001b[1;32mIn[1], line 2\u001b[0m, in \u001b[0;36mprint_number\u001b[1;34m(n)\u001b[0m\n\u001b[0;32m      1\u001b[0m \u001b[38;5;28;01mdef\u001b[39;00m \u001b[38;5;21mprint_number\u001b[39m(n):\n\u001b[1;32m----> 2\u001b[0m     \u001b[38;5;28;01mif\u001b[39;00m \u001b[43mn\u001b[49m \u001b[38;5;241m>\u001b[39m \u001b[38;5;241m10\u001b[39m:\n\u001b[0;32m      3\u001b[0m         \u001b[38;5;28;01mreturn\u001b[39;00m\n\u001b[0;32m      4\u001b[0m     \u001b[38;5;28mprint\u001b[39m(n)\n",
      "File \u001b[1;32mc:\\Users\\n523197\\PycharmProjects\\pythonProject\\.venv\\Lib\\site-packages\\debugpy\\_vendored\\pydevd\\_pydevd_bundle\\pydevd_frame.py:988\u001b[0m, in \u001b[0;36mPyDBFrame.trace_dispatch\u001b[1;34m(self, frame, event, arg)\u001b[0m\n\u001b[0;32m    986\u001b[0m \u001b[38;5;66;03m# if thread has a suspend flag, we suspend with a busy wait\u001b[39;00m\n\u001b[0;32m    987\u001b[0m \u001b[38;5;28;01mif\u001b[39;00m info\u001b[38;5;241m.\u001b[39mpydev_state \u001b[38;5;241m==\u001b[39m STATE_SUSPEND:\n\u001b[1;32m--> 988\u001b[0m     \u001b[38;5;28;43mself\u001b[39;49m\u001b[38;5;241;43m.\u001b[39;49m\u001b[43mdo_wait_suspend\u001b[49m\u001b[43m(\u001b[49m\u001b[43mthread\u001b[49m\u001b[43m,\u001b[49m\u001b[43m \u001b[49m\u001b[43mframe\u001b[49m\u001b[43m,\u001b[49m\u001b[43m \u001b[49m\u001b[43mevent\u001b[49m\u001b[43m,\u001b[49m\u001b[43m \u001b[49m\u001b[43marg\u001b[49m\u001b[43m)\u001b[49m\n\u001b[0;32m    989\u001b[0m     \u001b[38;5;28;01mreturn\u001b[39;00m \u001b[38;5;28mself\u001b[39m\u001b[38;5;241m.\u001b[39mtrace_dispatch\n\u001b[0;32m    990\u001b[0m \u001b[38;5;28;01melse\u001b[39;00m:\n",
      "File \u001b[1;32mc:\\Users\\n523197\\PycharmProjects\\pythonProject\\.venv\\Lib\\site-packages\\debugpy\\_vendored\\pydevd\\_pydevd_bundle\\pydevd_frame.py:165\u001b[0m, in \u001b[0;36mPyDBFrame.do_wait_suspend\u001b[1;34m(self, *args, **kwargs)\u001b[0m\n\u001b[0;32m    164\u001b[0m \u001b[38;5;28;01mdef\u001b[39;00m \u001b[38;5;21mdo_wait_suspend\u001b[39m(\u001b[38;5;28mself\u001b[39m, \u001b[38;5;241m*\u001b[39margs, \u001b[38;5;241m*\u001b[39m\u001b[38;5;241m*\u001b[39mkwargs):\n\u001b[1;32m--> 165\u001b[0m     \u001b[38;5;28;43mself\u001b[39;49m\u001b[38;5;241;43m.\u001b[39;49m\u001b[43m_args\u001b[49m\u001b[43m[\u001b[49m\u001b[38;5;241;43m0\u001b[39;49m\u001b[43m]\u001b[49m\u001b[38;5;241;43m.\u001b[39;49m\u001b[43mdo_wait_suspend\u001b[49m\u001b[43m(\u001b[49m\u001b[38;5;241;43m*\u001b[39;49m\u001b[43margs\u001b[49m\u001b[43m,\u001b[49m\u001b[43m \u001b[49m\u001b[38;5;241;43m*\u001b[39;49m\u001b[38;5;241;43m*\u001b[39;49m\u001b[43mkwargs\u001b[49m\u001b[43m)\u001b[49m\n",
      "File \u001b[1;32mc:\\Users\\n523197\\PycharmProjects\\pythonProject\\.venv\\Lib\\site-packages\\debugpy\\_vendored\\pydevd\\pydevd.py:2070\u001b[0m, in \u001b[0;36mPyDB.do_wait_suspend\u001b[1;34m(self, thread, frame, event, arg, exception_type)\u001b[0m\n\u001b[0;32m   2067\u001b[0m             from_this_thread\u001b[38;5;241m.\u001b[39mappend(frame_custom_thread_id)\n\u001b[0;32m   2069\u001b[0m     \u001b[38;5;28;01mwith\u001b[39;00m \u001b[38;5;28mself\u001b[39m\u001b[38;5;241m.\u001b[39m_threads_suspended_single_notification\u001b[38;5;241m.\u001b[39mnotify_thread_suspended(thread_id, thread, stop_reason):\n\u001b[1;32m-> 2070\u001b[0m         keep_suspended \u001b[38;5;241m=\u001b[39m \u001b[38;5;28;43mself\u001b[39;49m\u001b[38;5;241;43m.\u001b[39;49m\u001b[43m_do_wait_suspend\u001b[49m\u001b[43m(\u001b[49m\u001b[43mthread\u001b[49m\u001b[43m,\u001b[49m\u001b[43m \u001b[49m\u001b[43mframe\u001b[49m\u001b[43m,\u001b[49m\u001b[43m \u001b[49m\u001b[43mevent\u001b[49m\u001b[43m,\u001b[49m\u001b[43m \u001b[49m\u001b[43marg\u001b[49m\u001b[43m,\u001b[49m\u001b[43m \u001b[49m\u001b[43msuspend_type\u001b[49m\u001b[43m,\u001b[49m\u001b[43m \u001b[49m\u001b[43mfrom_this_thread\u001b[49m\u001b[43m,\u001b[49m\u001b[43m \u001b[49m\u001b[43mframes_tracker\u001b[49m\u001b[43m)\u001b[49m\n\u001b[0;32m   2072\u001b[0m frames_list \u001b[38;5;241m=\u001b[39m \u001b[38;5;28;01mNone\u001b[39;00m\n\u001b[0;32m   2074\u001b[0m \u001b[38;5;28;01mif\u001b[39;00m keep_suspended:\n\u001b[0;32m   2075\u001b[0m     \u001b[38;5;66;03m# This means that we should pause again after a set next statement.\u001b[39;00m\n",
      "File \u001b[1;32mc:\\Users\\n523197\\PycharmProjects\\pythonProject\\.venv\\Lib\\site-packages\\debugpy\\_vendored\\pydevd\\pydevd.py:2106\u001b[0m, in \u001b[0;36mPyDB._do_wait_suspend\u001b[1;34m(self, thread, frame, event, arg, suspend_type, from_this_thread, frames_tracker)\u001b[0m\n\u001b[0;32m   2103\u001b[0m         \u001b[38;5;28mself\u001b[39m\u001b[38;5;241m.\u001b[39m_call_input_hook()\n\u001b[0;32m   2105\u001b[0m     \u001b[38;5;28mself\u001b[39m\u001b[38;5;241m.\u001b[39mprocess_internal_commands()\n\u001b[1;32m-> 2106\u001b[0m     \u001b[43mtime\u001b[49m\u001b[38;5;241;43m.\u001b[39;49m\u001b[43msleep\u001b[49m\u001b[43m(\u001b[49m\u001b[38;5;241;43m0.01\u001b[39;49m\u001b[43m)\u001b[49m\n\u001b[0;32m   2108\u001b[0m \u001b[38;5;28mself\u001b[39m\u001b[38;5;241m.\u001b[39mcancel_async_evaluation(get_current_thread_id(thread), \u001b[38;5;28mstr\u001b[39m(\u001b[38;5;28mid\u001b[39m(frame)))\n\u001b[0;32m   2110\u001b[0m \u001b[38;5;66;03m# process any stepping instructions\u001b[39;00m\n",
      "\u001b[1;31mKeyboardInterrupt\u001b[0m: "
     ]
    }
   ],
   "source": [
    "def print_number(n):\n",
    "    if n > 10:\n",
    "        return\n",
    "    print(n)\n",
    "    n += 1\n",
    "    print_number(n)\n",
    "    \n",
    "print_number(n=1)"
   ]
  },
  {
   "cell_type": "code",
   "execution_count": 4,
   "metadata": {},
   "outputs": [
    {
     "name": "stdout",
     "output_type": "stream",
     "text": [
      "120\n"
     ]
    }
   ],
   "source": [
    "def factorial(n):\n",
    "    if n == 0 or n == 1:\n",
    "        return 1\n",
    "    fact = n * factorial(n-1) # 5*4*3*2*1\n",
    "    return fact\n",
    "    \n",
    "print(factorial(5))\n",
    "    "
   ]
  },
  {
   "cell_type": "code",
   "execution_count": 33,
   "metadata": {},
   "outputs": [
    {
     "name": "stdout",
     "output_type": "stream",
     "text": [
      "4 3 2 1 1 2 3 4 "
     ]
    }
   ],
   "source": [
    "def seq_num(n):\n",
    "    if n == 0:\n",
    "        return\n",
    "    print(n, end= ' ')\n",
    "    seq_num(n-1)\n",
    "    print(n, end= ' ')\n",
    "seq_num(4)"
   ]
  },
  {
   "cell_type": "code",
   "execution_count": 37,
   "metadata": {},
   "outputs": [
    {
     "name": "stdout",
     "output_type": "stream",
     "text": [
      "15\n"
     ]
    }
   ],
   "source": [
    "def sum(current, last):\n",
    "    if current == last: \n",
    "        return last\n",
    "    return sum(current= current + 1, last=last) + current\n",
    "\n",
    "\n",
    "print(sum(current = 0, last = 5))"
   ]
  },
  {
   "cell_type": "code",
   "execution_count": 9,
   "metadata": {},
   "outputs": [
    {
     "name": "stdout",
     "output_type": "stream",
     "text": [
      "4\n"
     ]
    }
   ],
   "source": [
    "k = 8\n",
    "m = k // 2\n",
    "print(m)"
   ]
  },
  {
   "cell_type": "code",
   "execution_count": 6,
   "metadata": {},
   "outputs": [
    {
     "name": "stdout",
     "output_type": "stream",
     "text": [
      "0\n"
     ]
    }
   ],
   "source": [
    "def kth_grammar(n, k):\n",
    "    # 0\n",
    "    # 0 1\n",
    "    # 0 1 1 0\n",
    "    # 0 1 1 0 1 0 0 1\n",
    "    if n == 1: return 0\n",
    "    length = 2**(n-1)\n",
    "    mid = length // 2\n",
    "    if k <= mid:\n",
    "        return kth_grammar(n-1, k)\n",
    "    else:\n",
    "        return 1 - kth_grammar(n-1, k - mid)\n",
    "        # return int(not kth_grammar(n-1, k - mid))\n",
    "    \n",
    "print(kth_grammar(4,7))"
   ]
  },
  {
   "cell_type": "code",
   "execution_count": 18,
   "metadata": {},
   "outputs": [
    {
     "name": "stdout",
     "output_type": "stream",
     "text": [
      "3\n"
     ]
    }
   ],
   "source": [
    "def findTheWinner(n, k):\n",
    "    arr = [i+1 for i in range(n)]\n",
    "    def helper(arr, start_index):\n",
    "        length = len(arr)\n",
    "        if length == 1:\n",
    "            return arr[0]\n",
    "        index_to_remove = (start_index + k - 1) % length\n",
    "        del arr[index_to_remove]\n",
    "        return helper(arr, index_to_remove)\n",
    "    \n",
    "    return helper(arr, 0)\n",
    "\n",
    "\n",
    "print(findTheWinner(5,2))\n",
    "    "
   ]
  },
  {
   "cell_type": "code",
   "execution_count": null,
   "metadata": {},
   "outputs": [],
   "source": [
    "def find_the_winner(n, k):\n",
    "    arr = [i for i in range(n)]\n",
    "    def helper(arr, starting_index):\n",
    "        length_of_array = len(arr)\n",
    "        if length_of_array == 1:\n",
    "            return\n",
    "    return helper(arr, 0)\n",
    "\n",
    "find_the_winner(5,2)"
   ]
  },
  {
   "cell_type": "code",
   "execution_count": 4,
   "metadata": {},
   "outputs": [
    {
     "name": "stdout",
     "output_type": "stream",
     "text": [
      "txt\n"
     ]
    }
   ],
   "source": [
    "data_file_name =  'C:/ProgramFiles/file.name.txt'\n",
    "extension_name =  data_file_name.split(\".\")[-1]\n",
    "print(extension_name)"
   ]
  },
  {
   "cell_type": "code",
   "execution_count": 13,
   "metadata": {},
   "outputs": [
    {
     "name": "stdout",
     "output_type": "stream",
     "text": [
      "<class 'float'>\n"
     ]
    }
   ],
   "source": [
    "text = '   ₹4,699.00 with 59 percent savings    '\n",
    "new_text = float(text.split('₹')[1].split(' ')[0].replace(',',''))\n",
    "print(type(new_text))\n"
   ]
  },
  {
   "cell_type": "code",
   "execution_count": 15,
   "metadata": {},
   "outputs": [
    {
     "name": "stdout",
     "output_type": "stream",
     "text": [
      "23690.0\n"
     ]
    }
   ],
   "source": [
    "text = '23,690'\n",
    "new_text = float(text.replace(',', ''))\n",
    "print(new_text)"
   ]
  },
  {
   "cell_type": "code",
   "execution_count": 3,
   "metadata": {},
   "outputs": [
    {
     "name": "stdout",
     "output_type": "stream",
     "text": [
      "15\n"
     ]
    }
   ],
   "source": [
    "text = 'Cursor - 15'\n",
    "new_text = int(text.replace(',','').split('-')[1].strip())\n",
    "print(new_text)"
   ]
  },
  {
   "cell_type": "code",
   "execution_count": 21,
   "metadata": {},
   "outputs": [
    {
     "name": "stdout",
     "output_type": "stream",
     "text": [
      "factory\n"
     ]
    }
   ],
   "source": [
    "money = 600\n",
    "upgrades = {'cursor':15,\n",
    "            'grandma':100,\n",
    "            'factory': 500,\n",
    "            'mine':2000,\n",
    "            'shipment':7000,\n",
    "            'alchemy lab':50000,\n",
    "            'portal':1000000,\n",
    "            'time machine': 123456789}\n",
    "\n",
    "def get_key_by_value(d, value):\n",
    "    for key, val in d.items():\n",
    "        if val == value:\n",
    "            return key\n",
    "    return 'No value found matching your description'\n",
    "\n",
    "# print(get_key_by_value(upgrades, 500))\n",
    "\n",
    "\n",
    "# for key, value in range(len(upgrades)):\n",
    "#     if upgrades[up] < money < upgrades[up+1]:\n",
    "#         print(upgrades[up])"
   ]
  },
  {
   "cell_type": "code",
   "execution_count": 40,
   "metadata": {},
   "outputs": [
    {
     "name": "stdout",
     "output_type": "stream",
     "text": [
      "[('cursor', 15), ('grandma', 100), ('factory', 500), ('mine', 2000), ('shipment', 7000), ('alchemy lab', 50000), ('portal', 1000000), ('time machine', 123456789)]\n",
      "['factory']\n",
      "upgrade: factory\n"
     ]
    }
   ],
   "source": [
    "money = 550\n",
    "upgrades = {\n",
    "    'cursor': 15,\n",
    "    'grandma': 100,\n",
    "    'factory': 500,\n",
    "    'mine': 2000,\n",
    "    'shipment': 7000,\n",
    "    'alchemy lab': 50000,\n",
    "    'portal': 1000000,\n",
    "    'time machine': 123456789\n",
    "}\n",
    "\n",
    "# Convert dictionary items to a list of tuples\n",
    "items_list = list(upgrades.items())\n",
    "\n",
    "# # Access the key-value pair by index\n",
    "# index = 1\n",
    "# key, value = items_list[index]\n",
    "\n",
    "print(items_list)\n",
    "suitable_upgrade = []\n",
    "\n",
    "for up in range(len(upgrades)):\n",
    "    if items_list[up][1] <= money <= items_list[up+1][1]:\n",
    "        suitable_upgrade.append(items_list[up][0])\n",
    "\n",
    "print(suitable_upgrade)\n",
    "\n",
    "if len(suitable_upgrade)>1:\n",
    "    print(f'upgrade: {suitable_upgrade[-1]}')\n",
    "else:\n",
    "    print(f'upgrade: {suitable_upgrade[0]}')\n",
    "\n",
    "# print(f\"At index {index}, the key is '{key}' and the value is {value}.\")"
   ]
  },
  {
   "cell_type": "code",
   "execution_count": 24,
   "metadata": {},
   "outputs": [
    {
     "name": "stdout",
     "output_type": "stream",
     "text": [
      "Cursor \n"
     ]
    }
   ],
   "source": [
    "text = 'Cursor - 15'\n",
    "new_text = text.split('-')[0]\n",
    "print(new_text)"
   ]
  },
  {
   "cell_type": "code",
   "execution_count": 25,
   "metadata": {},
   "outputs": [
    {
     "name": "stdout",
     "output_type": "stream",
     "text": [
      "{'cursor': 15, 'grandma': 100, 'factory': 500, 'mine': 2000, 'shipment': 7000, 'alchemy lab': 50000, 'portal': 1000000, 'time machine': 123456789}\n"
     ]
    }
   ],
   "source": [
    "price_list = [15, 100, 500, 2000, 7000, 50000, 1000000, 123456789]\n",
    "upgrade_list = ['cursor', 'grandma', 'factory', 'mine', 'shipment', 'alchemy lab', 'portal', 'time machine']\n",
    "new_dict = {}\n",
    "for n in range(len(price_list)):\n",
    "    new_dict[upgrade_list[n]] = price_list[n]\n",
    "    \n",
    "print(new_dict)"
   ]
  },
  {
   "cell_type": "code",
   "execution_count": 2,
   "metadata": {},
   "outputs": [
    {
     "name": "stdout",
     "output_type": "stream",
     "text": [
      "Alchemy\\ lab\n"
     ]
    }
   ],
   "source": [
    "text = 'Alchemy lab'\n",
    "if \" \" in text:\n",
    "    text = text.replace(\" \",\"\\\\ \")\n",
    "print(text)"
   ]
  },
  {
   "cell_type": "code",
   "execution_count": 2,
   "metadata": {},
   "outputs": [
    {
     "name": "stdout",
     "output_type": "stream",
     "text": [
      "move disk 1 from rod 1 to rod 3\n",
      "move disk 2 from rod 1 to rod 2\n",
      "move disk 1 from rod 3 to rod 2\n",
      "move disk 3 from rod 1 to rod 3\n",
      "move disk 1 from rod 2 to rod 1\n",
      "move disk 2 from rod 2 to rod 3\n",
      "move disk 1 from rod 1 to rod 3\n"
     ]
    },
    {
     "data": {
      "text/plain": [
       "7"
      ]
     },
     "execution_count": 2,
     "metadata": {},
     "output_type": "execute_result"
    }
   ],
   "source": [
    "def tower_of_hanoi(N, fromm, to, aux):\n",
    "    count = 0\n",
    "    \n",
    "    def helper(N, fromm, to, aux):\n",
    "        nonlocal count\n",
    "        # Base Case:\n",
    "        if N == 1:\n",
    "            print(f\"move disk {str(N)} from rod {str(fromm)} to rod {str(to)}\")\n",
    "            count += 1\n",
    "            return\n",
    "        \n",
    "        # Recursive Case:\n",
    "        helper(N-1,fromm, aux, to)\n",
    "        print(f\"move disk {str(N)} from rod {str(fromm)} to rod {str(to)}\")\n",
    "        count += 1\n",
    "        helper(N-1, aux, to, fromm)\n",
    "    helper(N, fromm, to, aux)\n",
    "    return count\n",
    "\n",
    "tower_of_hanoi(3,1,3,2)"
   ]
  },
  {
   "cell_type": "code",
   "execution_count": 9,
   "metadata": {},
   "outputs": [],
   "source": [
    "def sum_pow(array, power=1):\n",
    "    sum = 0\n",
    "    \n",
    "    for i in array:\n",
    "        if isinstance(i, list):\n",
    "            sum += sum_pow(i, power+1)\n",
    "        else:\n",
    "            sum += i\n",
    "    \n",
    "    return pow(sum, power)\n",
    "\n",
    "array = [1,2,[3,4], [[2]]] \n",
    "sum_pow(array=array)"
   ]
  },
  {
   "cell_type": "code",
   "execution_count": 7,
   "metadata": {},
   "outputs": [
    {
     "name": "stdout",
     "output_type": "stream",
     "text": [
      "120\n"
     ]
    }
   ],
   "source": [
    "n =5\n",
    "fact = 1\n",
    "for i in range(1,n+1):\n",
    "    fact *= i\n",
    "    \n",
    "print(fact)"
   ]
  }
 ],
 "metadata": {
  "kernelspec": {
   "display_name": "Python 3",
   "language": "python",
   "name": "python3"
  },
  "language_info": {
   "codemirror_mode": {
    "name": "ipython",
    "version": 3
   },
   "file_extension": ".py",
   "mimetype": "text/x-python",
   "name": "python",
   "nbconvert_exporter": "python",
   "pygments_lexer": "ipython3",
   "version": "3.12.4"
  }
 },
 "nbformat": 4,
 "nbformat_minor": 2
}

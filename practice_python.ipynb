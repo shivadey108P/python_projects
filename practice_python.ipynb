{
 "cells": [
  {
   "cell_type": "code",
   "execution_count": 19,
   "id": "91587615",
   "metadata": {},
   "outputs": [
    {
     "name": "stdout",
     "output_type": "stream",
     "text": [
      "15\n"
     ]
    }
   ],
   "source": [
    "length = 15\n",
    "print(length)"
   ]
  },
  {
   "cell_type": "code",
   "execution_count": 20,
   "id": "fee242ca",
   "metadata": {},
   "outputs": [
    {
     "name": "stdout",
     "output_type": "stream",
     "text": [
      "[10, 7, 5, 11, 15]\n",
      "2114385401664\n"
     ]
    }
   ],
   "source": [
    "prices = [10,7,5,11, 15]\n",
    "print(prices)\n",
    "print(id(prices))"
   ]
  },
  {
   "cell_type": "code",
   "execution_count": 21,
   "id": "554e6807",
   "metadata": {},
   "outputs": [
    {
     "name": "stdout",
     "output_type": "stream",
     "text": [
      "Soap 30 5\n"
     ]
    }
   ],
   "source": [
    "name, price, quantity = 'Soap', 30, 5\n",
    "print(name, price, quantity)"
   ]
  },
  {
   "cell_type": "code",
   "execution_count": 22,
   "id": "28324f97",
   "metadata": {},
   "outputs": [
    {
     "name": "stdout",
     "output_type": "stream",
     "text": [
      "140728909121976 140728909121976 140728909121976\n",
      "1 1 1\n"
     ]
    }
   ],
   "source": [
    "a, b, c = 1,1,1\n",
    "print(id(a), id(b), id(c))\n",
    "print(a,b,c)"
   ]
  },
  {
   "cell_type": "code",
   "execution_count": 23,
   "id": "665a8e58",
   "metadata": {},
   "outputs": [
    {
     "name": "stdout",
     "output_type": "stream",
     "text": [
      "140728909122008 140728909122008 140728909122008\n",
      "2 2 2\n"
     ]
    }
   ],
   "source": [
    "a = b = c = 2\n",
    "print(id(a), id(b), id(c))\n",
    "print(a,b,c)"
   ]
  },
  {
   "cell_type": "code",
   "execution_count": 24,
   "id": "a8add204",
   "metadata": {},
   "outputs": [
    {
     "name": "stdout",
     "output_type": "stream",
     "text": [
      "<class 'int'>\n",
      "<class 'float'>\n",
      "<class 'str'>\n",
      "<class 'list'>\n"
     ]
    }
   ],
   "source": [
    "a = 15\n",
    "print(type(a))\n",
    "a = 12.75\n",
    "print(type(a))\n",
    "a = 'Shiva'\n",
    "print(type(a))\n",
    "a = [10, 15, 9, 8 ,7]\n",
    "print(type(a))"
   ]
  },
  {
   "cell_type": "code",
   "execution_count": 7,
   "id": "855dc8c6",
   "metadata": {},
   "outputs": [
    {
     "name": "stdout",
     "output_type": "stream",
     "text": [
      "28\n",
      "28\n",
      "32\n",
      "36\n"
     ]
    }
   ],
   "source": [
    "import sys\n",
    "x = 1\n",
    "y = 101\n",
    "z = 123456789012345\n",
    "a = 12345678901234567890\n",
    "print(sys.getsizeof(x))\n",
    "print(sys.getsizeof(y))\n",
    "print(sys.getsizeof(z))\n",
    "print(sys.getsizeof(a))\n"
   ]
  },
  {
   "cell_type": "code",
   "execution_count": 5,
   "id": "5dd09484",
   "metadata": {},
   "outputs": [
    {
     "name": "stdout",
     "output_type": "stream",
     "text": [
      "<class 'float'>\n",
      "12500.0 23.45\n",
      "<class 'float'> -0.032\n"
     ]
    }
   ],
   "source": [
    "x = 125E2 #125 = mantissa , E2 = exponent\n",
    "\n",
    "y = 2345e-2\n",
    "print(type(x))\n",
    "\n",
    "print(x,y)\n",
    "\n",
    "z = -3.2E-2\n",
    "print(type(z), z)"
   ]
  },
  {
   "cell_type": "markdown",
   "id": "75dfea8d",
   "metadata": {},
   "source": [
    "# Complex numbers\n",
    "Here the a + ib -> a is real part and b is imaginary part\n",
    "i = √-1\n",
    "## where to use complex numbers\n",
    "In some scenarios its difficult to determine √-(ve) values eg:\n",
    "- => 5 + √-9\n",
    "- => 5 + √-1 * √9\n",
    "- => 5 + √-1 * 3\n",
    "- => 5 + i * 3\n",
    "- => 5 + i3\n",
    "## Complex in python:\n",
    "In programming we will use c1 = 5 +3j\n",
    "because we commonly use i, so we use j instead"
   ]
  },
  {
   "cell_type": "code",
   "execution_count": 11,
   "id": "1525ed9e",
   "metadata": {},
   "outputs": [
    {
     "name": "stdout",
     "output_type": "stream",
     "text": [
      "<class 'complex'> (10+5j)\n",
      "(2.5+3.5j)\n",
      "(5+3.1j)\n",
      "(10+0j)\n"
     ]
    }
   ],
   "source": [
    "c = 10 +5j\n",
    "print(type(c), c)\n",
    "c = 2.5 + 3.5j\n",
    "print(c)\n",
    "c = complex(5, 3.1)\n",
    "print(c)\n",
    "c = complex(10)\n",
    "print(c)"
   ]
  },
  {
   "cell_type": "markdown",
   "id": "1d0a298a",
   "metadata": {},
   "source": [
    "## What are literals?\n",
    "1. Integer\n",
    "2. Float\n",
    "3. Boolean\n",
    "4. Complex\n",
    "5. String"
   ]
  },
  {
   "cell_type": "code",
   "execution_count": null,
   "id": "20684e6e",
   "metadata": {},
   "outputs": [],
   "source": [
    "# We have below four examples\n",
    "a =5 # We directly assign the value, this is literal\n",
    "b = 10 # We directly assign the value, this is literal\n",
    "c = a+b # Here c gets data when we perform addition of a and b, so its not direct\n",
    "d = int(input('Enter a value')) # We get d value from the user hitting keyboard\n",
    "\n",
    "#Literals are also called as constants"
   ]
  },
  {
   "cell_type": "code",
   "execution_count": 15,
   "id": "f7d43535",
   "metadata": {},
   "outputs": [
    {
     "ename": "SyntaxError",
     "evalue": "invalid decimal literal (441627215.py, line 9)",
     "output_type": "error",
     "traceback": [
      "\u001b[1;36m  Cell \u001b[1;32mIn[15], line 9\u001b[1;36m\u001b[0m\n\u001b[1;33m    e = 456_\u001b[0m\n\u001b[1;37m           ^\u001b[0m\n\u001b[1;31mSyntaxError\u001b[0m\u001b[1;31m:\u001b[0m invalid decimal literal\n"
     ]
    }
   ],
   "source": [
    "a = 201\n",
    "b = 138_234_783 #To read the literals with huge values, we can separate it by underscore _\n",
    "print(a,b)\n",
    "#There is no rule to keep underscore after 3 digits\n",
    "c = 13_34_456\n",
    "print(c)\n",
    "#wrong forms:\n",
    "d = _123\n",
    "e = 456_\n",
    "print(d)\n",
    "print(e)"
   ]
  },
  {
   "cell_type": "code",
   "execution_count": 21,
   "id": "4af97dff",
   "metadata": {},
   "outputs": [
    {
     "ename": "SyntaxError",
     "evalue": "invalid decimal literal (1389043132.py, line 1)",
     "output_type": "error",
     "traceback": [
      "\u001b[1;36m  Cell \u001b[1;32mIn[21], line 1\u001b[1;36m\u001b[0m\n\u001b[1;33m    a = 5_._9\u001b[0m\n\u001b[1;37m         ^\u001b[0m\n\u001b[1;31mSyntaxError\u001b[0m\u001b[1;31m:\u001b[0m invalid decimal literal\n"
     ]
    }
   ],
   "source": [
    "a = 5_._9\n",
    "print(a)"
   ]
  },
  {
   "cell_type": "code",
   "execution_count": 22,
   "id": "8b2c360f",
   "metadata": {},
   "outputs": [
    {
     "name": "stdout",
     "output_type": "stream",
     "text": [
      "58.904\n"
     ]
    }
   ],
   "source": [
    "b = 5_890.4e-2\n",
    "print(b)"
   ]
  },
  {
   "cell_type": "markdown",
   "id": "6f0bc53b",
   "metadata": {},
   "source": [
    "## Number system\n",
    "1. Decimal: base 10 (0,1,2,3,4,5,6,7,8,9)\n",
    "2. Binary: base 2(0,1)\n",
    "3. Octal: base 8(0,1,2,3,4,5,6,7)\n",
    "4. Hexa: base 16(0,1,2,3,4,5,6,7,8,9,A,B,C,D,E,F)"
   ]
  },
  {
   "cell_type": "code",
   "execution_count": 23,
   "id": "ad3d5fe6",
   "metadata": {},
   "outputs": [
    {
     "name": "stdout",
     "output_type": "stream",
     "text": [
      "10 10 10 10\n"
     ]
    }
   ],
   "source": [
    "a = 10\n",
    "b = 0b1010\n",
    "c = 0o12\n",
    "d = 0xA\n",
    "\n",
    "print(a,b,c,d)"
   ]
  },
  {
   "cell_type": "code",
   "execution_count": 26,
   "id": "f7aa0a9e",
   "metadata": {},
   "outputs": [
    {
     "name": "stdout",
     "output_type": "stream",
     "text": [
      "(10+5j)\n"
     ]
    }
   ],
   "source": [
    "c1 = 0b1010 + 5j # integer literals in other format are allowed only in integers and complex number real part\n",
    "print(c1)"
   ]
  },
  {
   "cell_type": "code",
   "execution_count": 9,
   "id": "b18a3ba3",
   "metadata": {},
   "outputs": [
    {
     "name": "stdout",
     "output_type": "stream",
     "text": [
      "2025-05-17 00:00:00\n",
      "2025-07-07 00:00:00\n",
      "Days left until 2025-07-07: 51\n"
     ]
    }
   ],
   "source": [
    "from datetime import datetime as dt\n",
    "\n",
    "\n",
    "current_date = dt.now().replace(hour=0, minute=0, second=0, microsecond=0)\n",
    "print(current_date)\n",
    "\n",
    "target_date = dt(2025, 7, 7)\n",
    "print(target_date)\n",
    "days_left = (target_date - current_date).days\n",
    "print(f\"Days left until {target_date.date()}: {days_left}\")"
   ]
  },
  {
   "cell_type": "code",
   "execution_count": 19,
   "id": "c3220e88",
   "metadata": {},
   "outputs": [
    {
     "name": "stdout",
     "output_type": "stream",
     "text": [
      "model Ford\n",
      "make Explorer\n",
      "year 2018\n",
      "mileage 40000\n",
      "{'model': 'Ford', 'make': 'Explorer', 'year': 2018, 'mileage': 40000}\n",
      "dict_keys(['model', 'make', 'year', 'number_of_tires'])\n",
      "dict_items([('model', 'Ford'), ('make', 'Explorer'), ('year', 2018), ('number_of_tires', 4)])\n",
      "Red\n",
      "Ford\n",
      "{'model': 'Ford', 'make': 'Explorer', 'year': 2018, 'number_of_tires': 4, 'color': 'Red'}\n"
     ]
    }
   ],
   "source": [
    "my_vehicle = {\n",
    "    \"model\": \"Ford\",\n",
    "    \"make\": \"Explorer\",\n",
    "    \"year\": 2018,\n",
    "    \"mileage\": 40000\n",
    "}\n",
    "\n",
    "\n",
    "for key, value in my_vehicle.items():\n",
    "    print(key, value)\n",
    "    \n",
    "vehicle2 = my_vehicle.copy()\n",
    "print(vehicle2)\n",
    "vehicle2['number_of_tires'] = 4\n",
    "vehicle2.pop('mileage')\n",
    "print(vehicle2.keys())\n",
    "print(vehicle2.items())\n",
    "print(vehicle2.setdefault('color', 'Red'))\n",
    "print(vehicle2.setdefault('model', 'Toyata'))\n",
    "print(vehicle2)"
   ]
  },
  {
   "cell_type": "code",
   "execution_count": 7,
   "id": "5a515eec",
   "metadata": {},
   "outputs": [
    {
     "name": "stdout",
     "output_type": "stream",
     "text": [
      "[[1, 2], [3, 4]] [[1, 2], [3, 4]]\n",
      "2115390427008 2115391425344\n",
      "[[5, 2], [9, 4]] [[5, 2], [9, 4]]\n",
      "2115390427008 2115391425344\n",
      "[[10, 20], [30, 40]] [[10, 20], [30, 40]]\n",
      "2115391400768 2115389648128\n",
      "[[100, 20], [30, 40]] [[10, 20], [30, 300]]\n",
      "2115391400768 2115389648128\n"
     ]
    }
   ],
   "source": [
    "a = [[1,2],[3,4]]\n",
    "b = a.copy()\n",
    "\n",
    "print(a,b)\n",
    "print(id(a), id(b))\n",
    "a[0][0] = 5\n",
    "b[1][0] = 9\n",
    "print(a,b)\n",
    "print(id(a), id(b))\n",
    "\n",
    "import copy\n",
    "c = [[10,20],[30,40]]\n",
    "d = copy.deepcopy(c)\n",
    "\n",
    "print(c,d)\n",
    "print(id(c), id(d))\n",
    "\n",
    "c[0][0] = 100\n",
    "d[1][1] = 300\n",
    "\n",
    "print(c,d)\n",
    "print(id(c), id(d))"
   ]
  },
  {
   "cell_type": "code",
   "execution_count": 33,
   "id": "d1901456",
   "metadata": {},
   "outputs": [
    {
     "name": "stdout",
     "output_type": "stream",
     "text": [
      "('User Details', 'Name and Age')\n",
      "{'name': 'Shiva', 'age': 26}\n",
      "Select * from users where name='Shiva' and age='26'\n"
     ]
    }
   ],
   "source": [
    "def query_users(*events,**filters):\n",
    "    # events[0] = \"Details\"\n",
    "    # events[1].append('Details')\n",
    "    print(events)\n",
    "    print(filters)\n",
    "    return \"Select * from users where \" + \" and \".join(f\"{k}='{v}'\" for k,v in filters.items())\n",
    "\n",
    "print(query_users(\"User Details\", \"Name and Age\", name=\"Shiva\", age=26))"
   ]
  },
  {
   "cell_type": "code",
   "execution_count": null,
   "id": "b2e3bf75",
   "metadata": {},
   "outputs": [
    {
     "ename": "SyntaxError",
     "evalue": "no binding for nonlocal 'x' found (4123541008.py, line 7)",
     "output_type": "error",
     "traceback": [
      "\u001b[1;36m  Cell \u001b[1;32mIn[40], line 7\u001b[1;36m\u001b[0m\n\u001b[1;33m    nonlocal x\u001b[0m\n\u001b[1;37m    ^\u001b[0m\n\u001b[1;31mSyntaxError\u001b[0m\u001b[1;31m:\u001b[0m no binding for nonlocal 'x' found\n"
     ]
    }
   ],
   "source": [
    "x = 5\n",
    "\n",
    "def outer():\n",
    "    x = 15\n",
    "    def inner():\n",
    "        nonlocal x\n",
    "        x = 20\n",
    "        print(x)\n",
    "    \n",
    "    inner()\n",
    "outer()\n",
    "print(x)"
   ]
  },
  {
   "cell_type": "code",
   "execution_count": 10,
   "id": "7e1838dc",
   "metadata": {},
   "outputs": [
    {
     "name": "stdout",
     "output_type": "stream",
     "text": [
      "Dog is eating \n",
      "Chew on Bones\n",
      "bark!\n"
     ]
    }
   ],
   "source": [
    "from typing import Union\n",
    "class Animal:\n",
    "    \n",
    "    def __init__(self, weight = None, color= None, age = None, animal_type = None):\n",
    "        self.weight: int = weight\n",
    "        self.color:str = color\n",
    "        self.age:int = age\n",
    "        self.animal_type: str = animal_type\n",
    "    \n",
    "    \n",
    "    def eat(self, stuff:Union[str,None]=None):\n",
    "        print(f\"{self.__class__.__name__} is eating {stuff if stuff else \"\"}\")\n",
    "    \n",
    "class Dog(Animal):\n",
    "    \n",
    "    def __init__(self, breed: Union[str,None] = None):\n",
    "        super().__init__()\n",
    "        self.talk:str = 'bark!'\n",
    "        self.breed = breed\n",
    "    \n",
    "    def sound(self):\n",
    "        print(self.talk)\n",
    "    \n",
    "    def eat(self):\n",
    "        super().eat()\n",
    "        print(\"Chew on Bones\")\n",
    "        \n",
    "dog = Dog()\n",
    "dog.eat()\n",
    "dog.sound()"
   ]
  },
  {
   "cell_type": "code",
   "execution_count": null,
   "id": "14768d5e",
   "metadata": {},
   "outputs": [],
   "source": []
  }
 ],
 "metadata": {
  "kernelspec": {
   "display_name": "Python 3",
   "language": "python",
   "name": "python3"
  },
  "language_info": {
   "codemirror_mode": {
    "name": "ipython",
    "version": 3
   },
   "file_extension": ".py",
   "mimetype": "text/x-python",
   "name": "python",
   "nbconvert_exporter": "python",
   "pygments_lexer": "ipython3",
   "version": "3.12.2"
  }
 },
 "nbformat": 4,
 "nbformat_minor": 5
}
